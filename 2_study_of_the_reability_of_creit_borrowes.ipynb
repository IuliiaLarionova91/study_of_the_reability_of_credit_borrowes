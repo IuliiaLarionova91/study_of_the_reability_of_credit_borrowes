{
 "cells": [
  {
   "cell_type": "markdown",
   "id": "d792a41a",
   "metadata": {
    "deletable": false,
    "editable": false,
    "id": "386f2ae7"
   },
   "source": [
    "# Исследование надежности заемщиков\n"
   ]
  },
  {
   "cell_type": "markdown",
   "id": "88efe3f5",
   "metadata": {
    "deletable": false,
    "editable": false,
    "id": "ffe86f65"
   },
   "source": [
    "Во второй части проекта вы выполните шаги 3 и 4. Их вручную проверит ревьюер.\n",
    "Чтобы вам не пришлось писать код заново для шагов 1 и 2, мы добавили авторские решения в ячейки с кодом. \n",
    "\n"
   ]
  },
  {
   "cell_type": "markdown",
   "id": "8e78a10b",
   "metadata": {
    "deletable": false,
    "editable": false,
    "id": "26613308"
   },
   "source": [
    "## Откройте таблицу и изучите общую информацию о данных"
   ]
  },
  {
   "cell_type": "markdown",
   "id": "eca0854c",
   "metadata": {
    "deletable": false,
    "editable": false,
    "id": "3c9f838e"
   },
   "source": [
    "**Задание 1. Импортируйте библиотеку pandas. Считайте данные из csv-файла в датафрейм и сохраните в переменную `data`. Путь к файлу:**\n",
    "\n",
    "`/datasets/data.csv`"
   ]
  },
  {
   "cell_type": "code",
   "execution_count": 34,
   "id": "2dcb3331",
   "metadata": {
    "deletable": false,
    "id": "77a68a90"
   },
   "outputs": [],
   "source": [
    "import pandas as pd\n",
    "\n",
    "data = pd.read_csv('data.csv')\n"
   ]
  },
  {
   "cell_type": "markdown",
   "id": "ad3a1664",
   "metadata": {
    "deletable": false,
    "editable": false,
    "id": "45365635"
   },
   "source": [
    "**Задание 2. Выведите первые 20 строчек датафрейма `data` на экран.**"
   ]
  },
  {
   "cell_type": "code",
   "execution_count": 35,
   "id": "a1e43c8e",
   "metadata": {
    "deletable": false,
    "id": "b0451a9a",
    "outputId": "1a8f3ef2-d323-4ec2-ddf7-89670b5944c4"
   },
   "outputs": [
    {
     "data": {
      "text/html": [
       "<div>\n",
       "<style scoped>\n",
       "    .dataframe tbody tr th:only-of-type {\n",
       "        vertical-align: middle;\n",
       "    }\n",
       "\n",
       "    .dataframe tbody tr th {\n",
       "        vertical-align: top;\n",
       "    }\n",
       "\n",
       "    .dataframe thead th {\n",
       "        text-align: right;\n",
       "    }\n",
       "</style>\n",
       "<table border=\"1\" class=\"dataframe\">\n",
       "  <thead>\n",
       "    <tr style=\"text-align: right;\">\n",
       "      <th></th>\n",
       "      <th>children</th>\n",
       "      <th>days_employed</th>\n",
       "      <th>dob_years</th>\n",
       "      <th>education</th>\n",
       "      <th>education_id</th>\n",
       "      <th>family_status</th>\n",
       "      <th>family_status_id</th>\n",
       "      <th>gender</th>\n",
       "      <th>income_type</th>\n",
       "      <th>debt</th>\n",
       "      <th>total_income</th>\n",
       "      <th>purpose</th>\n",
       "    </tr>\n",
       "  </thead>\n",
       "  <tbody>\n",
       "    <tr>\n",
       "      <th>0</th>\n",
       "      <td>1</td>\n",
       "      <td>-8437.673028</td>\n",
       "      <td>42</td>\n",
       "      <td>высшее</td>\n",
       "      <td>0</td>\n",
       "      <td>женат / замужем</td>\n",
       "      <td>0</td>\n",
       "      <td>F</td>\n",
       "      <td>сотрудник</td>\n",
       "      <td>0</td>\n",
       "      <td>253875.639453</td>\n",
       "      <td>покупка жилья</td>\n",
       "    </tr>\n",
       "    <tr>\n",
       "      <th>1</th>\n",
       "      <td>1</td>\n",
       "      <td>-4024.803754</td>\n",
       "      <td>36</td>\n",
       "      <td>среднее</td>\n",
       "      <td>1</td>\n",
       "      <td>женат / замужем</td>\n",
       "      <td>0</td>\n",
       "      <td>F</td>\n",
       "      <td>сотрудник</td>\n",
       "      <td>0</td>\n",
       "      <td>112080.014102</td>\n",
       "      <td>приобретение автомобиля</td>\n",
       "    </tr>\n",
       "    <tr>\n",
       "      <th>2</th>\n",
       "      <td>0</td>\n",
       "      <td>-5623.422610</td>\n",
       "      <td>33</td>\n",
       "      <td>Среднее</td>\n",
       "      <td>1</td>\n",
       "      <td>женат / замужем</td>\n",
       "      <td>0</td>\n",
       "      <td>M</td>\n",
       "      <td>сотрудник</td>\n",
       "      <td>0</td>\n",
       "      <td>145885.952297</td>\n",
       "      <td>покупка жилья</td>\n",
       "    </tr>\n",
       "    <tr>\n",
       "      <th>3</th>\n",
       "      <td>3</td>\n",
       "      <td>-4124.747207</td>\n",
       "      <td>32</td>\n",
       "      <td>среднее</td>\n",
       "      <td>1</td>\n",
       "      <td>женат / замужем</td>\n",
       "      <td>0</td>\n",
       "      <td>M</td>\n",
       "      <td>сотрудник</td>\n",
       "      <td>0</td>\n",
       "      <td>267628.550329</td>\n",
       "      <td>дополнительное образование</td>\n",
       "    </tr>\n",
       "    <tr>\n",
       "      <th>4</th>\n",
       "      <td>0</td>\n",
       "      <td>340266.072047</td>\n",
       "      <td>53</td>\n",
       "      <td>среднее</td>\n",
       "      <td>1</td>\n",
       "      <td>гражданский брак</td>\n",
       "      <td>1</td>\n",
       "      <td>F</td>\n",
       "      <td>пенсионер</td>\n",
       "      <td>0</td>\n",
       "      <td>158616.077870</td>\n",
       "      <td>сыграть свадьбу</td>\n",
       "    </tr>\n",
       "    <tr>\n",
       "      <th>5</th>\n",
       "      <td>0</td>\n",
       "      <td>-926.185831</td>\n",
       "      <td>27</td>\n",
       "      <td>высшее</td>\n",
       "      <td>0</td>\n",
       "      <td>гражданский брак</td>\n",
       "      <td>1</td>\n",
       "      <td>M</td>\n",
       "      <td>компаньон</td>\n",
       "      <td>0</td>\n",
       "      <td>255763.565419</td>\n",
       "      <td>покупка жилья</td>\n",
       "    </tr>\n",
       "    <tr>\n",
       "      <th>6</th>\n",
       "      <td>0</td>\n",
       "      <td>-2879.202052</td>\n",
       "      <td>43</td>\n",
       "      <td>высшее</td>\n",
       "      <td>0</td>\n",
       "      <td>женат / замужем</td>\n",
       "      <td>0</td>\n",
       "      <td>F</td>\n",
       "      <td>компаньон</td>\n",
       "      <td>0</td>\n",
       "      <td>240525.971920</td>\n",
       "      <td>операции с жильем</td>\n",
       "    </tr>\n",
       "    <tr>\n",
       "      <th>7</th>\n",
       "      <td>0</td>\n",
       "      <td>-152.779569</td>\n",
       "      <td>50</td>\n",
       "      <td>СРЕДНЕЕ</td>\n",
       "      <td>1</td>\n",
       "      <td>женат / замужем</td>\n",
       "      <td>0</td>\n",
       "      <td>M</td>\n",
       "      <td>сотрудник</td>\n",
       "      <td>0</td>\n",
       "      <td>135823.934197</td>\n",
       "      <td>образование</td>\n",
       "    </tr>\n",
       "    <tr>\n",
       "      <th>8</th>\n",
       "      <td>2</td>\n",
       "      <td>-6929.865299</td>\n",
       "      <td>35</td>\n",
       "      <td>ВЫСШЕЕ</td>\n",
       "      <td>0</td>\n",
       "      <td>гражданский брак</td>\n",
       "      <td>1</td>\n",
       "      <td>F</td>\n",
       "      <td>сотрудник</td>\n",
       "      <td>0</td>\n",
       "      <td>95856.832424</td>\n",
       "      <td>на проведение свадьбы</td>\n",
       "    </tr>\n",
       "    <tr>\n",
       "      <th>9</th>\n",
       "      <td>0</td>\n",
       "      <td>-2188.756445</td>\n",
       "      <td>41</td>\n",
       "      <td>среднее</td>\n",
       "      <td>1</td>\n",
       "      <td>женат / замужем</td>\n",
       "      <td>0</td>\n",
       "      <td>M</td>\n",
       "      <td>сотрудник</td>\n",
       "      <td>0</td>\n",
       "      <td>144425.938277</td>\n",
       "      <td>покупка жилья для семьи</td>\n",
       "    </tr>\n",
       "    <tr>\n",
       "      <th>10</th>\n",
       "      <td>2</td>\n",
       "      <td>-4171.483647</td>\n",
       "      <td>36</td>\n",
       "      <td>высшее</td>\n",
       "      <td>0</td>\n",
       "      <td>женат / замужем</td>\n",
       "      <td>0</td>\n",
       "      <td>M</td>\n",
       "      <td>компаньон</td>\n",
       "      <td>0</td>\n",
       "      <td>113943.491460</td>\n",
       "      <td>покупка недвижимости</td>\n",
       "    </tr>\n",
       "    <tr>\n",
       "      <th>11</th>\n",
       "      <td>0</td>\n",
       "      <td>-792.701887</td>\n",
       "      <td>40</td>\n",
       "      <td>среднее</td>\n",
       "      <td>1</td>\n",
       "      <td>женат / замужем</td>\n",
       "      <td>0</td>\n",
       "      <td>F</td>\n",
       "      <td>сотрудник</td>\n",
       "      <td>0</td>\n",
       "      <td>77069.234271</td>\n",
       "      <td>покупка коммерческой недвижимости</td>\n",
       "    </tr>\n",
       "    <tr>\n",
       "      <th>12</th>\n",
       "      <td>0</td>\n",
       "      <td>NaN</td>\n",
       "      <td>65</td>\n",
       "      <td>среднее</td>\n",
       "      <td>1</td>\n",
       "      <td>гражданский брак</td>\n",
       "      <td>1</td>\n",
       "      <td>M</td>\n",
       "      <td>пенсионер</td>\n",
       "      <td>0</td>\n",
       "      <td>NaN</td>\n",
       "      <td>сыграть свадьбу</td>\n",
       "    </tr>\n",
       "    <tr>\n",
       "      <th>13</th>\n",
       "      <td>0</td>\n",
       "      <td>-1846.641941</td>\n",
       "      <td>54</td>\n",
       "      <td>неоконченное высшее</td>\n",
       "      <td>2</td>\n",
       "      <td>женат / замужем</td>\n",
       "      <td>0</td>\n",
       "      <td>F</td>\n",
       "      <td>сотрудник</td>\n",
       "      <td>0</td>\n",
       "      <td>130458.228857</td>\n",
       "      <td>приобретение автомобиля</td>\n",
       "    </tr>\n",
       "    <tr>\n",
       "      <th>14</th>\n",
       "      <td>0</td>\n",
       "      <td>-1844.956182</td>\n",
       "      <td>56</td>\n",
       "      <td>высшее</td>\n",
       "      <td>0</td>\n",
       "      <td>гражданский брак</td>\n",
       "      <td>1</td>\n",
       "      <td>F</td>\n",
       "      <td>компаньон</td>\n",
       "      <td>1</td>\n",
       "      <td>165127.911772</td>\n",
       "      <td>покупка жилой недвижимости</td>\n",
       "    </tr>\n",
       "    <tr>\n",
       "      <th>15</th>\n",
       "      <td>1</td>\n",
       "      <td>-972.364419</td>\n",
       "      <td>26</td>\n",
       "      <td>среднее</td>\n",
       "      <td>1</td>\n",
       "      <td>женат / замужем</td>\n",
       "      <td>0</td>\n",
       "      <td>F</td>\n",
       "      <td>сотрудник</td>\n",
       "      <td>0</td>\n",
       "      <td>116820.904450</td>\n",
       "      <td>строительство собственной недвижимости</td>\n",
       "    </tr>\n",
       "    <tr>\n",
       "      <th>16</th>\n",
       "      <td>0</td>\n",
       "      <td>-1719.934226</td>\n",
       "      <td>35</td>\n",
       "      <td>среднее</td>\n",
       "      <td>1</td>\n",
       "      <td>женат / замужем</td>\n",
       "      <td>0</td>\n",
       "      <td>F</td>\n",
       "      <td>сотрудник</td>\n",
       "      <td>0</td>\n",
       "      <td>289202.704229</td>\n",
       "      <td>недвижимость</td>\n",
       "    </tr>\n",
       "    <tr>\n",
       "      <th>17</th>\n",
       "      <td>0</td>\n",
       "      <td>-2369.999720</td>\n",
       "      <td>33</td>\n",
       "      <td>высшее</td>\n",
       "      <td>0</td>\n",
       "      <td>гражданский брак</td>\n",
       "      <td>1</td>\n",
       "      <td>M</td>\n",
       "      <td>сотрудник</td>\n",
       "      <td>0</td>\n",
       "      <td>90410.586745</td>\n",
       "      <td>строительство недвижимости</td>\n",
       "    </tr>\n",
       "    <tr>\n",
       "      <th>18</th>\n",
       "      <td>0</td>\n",
       "      <td>400281.136913</td>\n",
       "      <td>53</td>\n",
       "      <td>среднее</td>\n",
       "      <td>1</td>\n",
       "      <td>вдовец / вдова</td>\n",
       "      <td>2</td>\n",
       "      <td>F</td>\n",
       "      <td>пенсионер</td>\n",
       "      <td>0</td>\n",
       "      <td>56823.777243</td>\n",
       "      <td>на покупку подержанного автомобиля</td>\n",
       "    </tr>\n",
       "    <tr>\n",
       "      <th>19</th>\n",
       "      <td>0</td>\n",
       "      <td>-10038.818549</td>\n",
       "      <td>48</td>\n",
       "      <td>СРЕДНЕЕ</td>\n",
       "      <td>1</td>\n",
       "      <td>в разводе</td>\n",
       "      <td>3</td>\n",
       "      <td>F</td>\n",
       "      <td>сотрудник</td>\n",
       "      <td>0</td>\n",
       "      <td>242831.107982</td>\n",
       "      <td>на покупку своего автомобиля</td>\n",
       "    </tr>\n",
       "  </tbody>\n",
       "</table>\n",
       "</div>"
      ],
      "text/plain": [
       "    children  days_employed  dob_years            education  education_id  \\\n",
       "0          1   -8437.673028         42               высшее             0   \n",
       "1          1   -4024.803754         36              среднее             1   \n",
       "2          0   -5623.422610         33              Среднее             1   \n",
       "3          3   -4124.747207         32              среднее             1   \n",
       "4          0  340266.072047         53              среднее             1   \n",
       "5          0    -926.185831         27               высшее             0   \n",
       "6          0   -2879.202052         43               высшее             0   \n",
       "7          0    -152.779569         50              СРЕДНЕЕ             1   \n",
       "8          2   -6929.865299         35               ВЫСШЕЕ             0   \n",
       "9          0   -2188.756445         41              среднее             1   \n",
       "10         2   -4171.483647         36               высшее             0   \n",
       "11         0    -792.701887         40              среднее             1   \n",
       "12         0            NaN         65              среднее             1   \n",
       "13         0   -1846.641941         54  неоконченное высшее             2   \n",
       "14         0   -1844.956182         56               высшее             0   \n",
       "15         1    -972.364419         26              среднее             1   \n",
       "16         0   -1719.934226         35              среднее             1   \n",
       "17         0   -2369.999720         33               высшее             0   \n",
       "18         0  400281.136913         53              среднее             1   \n",
       "19         0  -10038.818549         48              СРЕДНЕЕ             1   \n",
       "\n",
       "       family_status  family_status_id gender income_type  debt  \\\n",
       "0    женат / замужем                 0      F   сотрудник     0   \n",
       "1    женат / замужем                 0      F   сотрудник     0   \n",
       "2    женат / замужем                 0      M   сотрудник     0   \n",
       "3    женат / замужем                 0      M   сотрудник     0   \n",
       "4   гражданский брак                 1      F   пенсионер     0   \n",
       "5   гражданский брак                 1      M   компаньон     0   \n",
       "6    женат / замужем                 0      F   компаньон     0   \n",
       "7    женат / замужем                 0      M   сотрудник     0   \n",
       "8   гражданский брак                 1      F   сотрудник     0   \n",
       "9    женат / замужем                 0      M   сотрудник     0   \n",
       "10   женат / замужем                 0      M   компаньон     0   \n",
       "11   женат / замужем                 0      F   сотрудник     0   \n",
       "12  гражданский брак                 1      M   пенсионер     0   \n",
       "13   женат / замужем                 0      F   сотрудник     0   \n",
       "14  гражданский брак                 1      F   компаньон     1   \n",
       "15   женат / замужем                 0      F   сотрудник     0   \n",
       "16   женат / замужем                 0      F   сотрудник     0   \n",
       "17  гражданский брак                 1      M   сотрудник     0   \n",
       "18    вдовец / вдова                 2      F   пенсионер     0   \n",
       "19         в разводе                 3      F   сотрудник     0   \n",
       "\n",
       "     total_income                                 purpose  \n",
       "0   253875.639453                           покупка жилья  \n",
       "1   112080.014102                 приобретение автомобиля  \n",
       "2   145885.952297                           покупка жилья  \n",
       "3   267628.550329              дополнительное образование  \n",
       "4   158616.077870                         сыграть свадьбу  \n",
       "5   255763.565419                           покупка жилья  \n",
       "6   240525.971920                       операции с жильем  \n",
       "7   135823.934197                             образование  \n",
       "8    95856.832424                   на проведение свадьбы  \n",
       "9   144425.938277                 покупка жилья для семьи  \n",
       "10  113943.491460                    покупка недвижимости  \n",
       "11   77069.234271       покупка коммерческой недвижимости  \n",
       "12            NaN                         сыграть свадьбу  \n",
       "13  130458.228857                 приобретение автомобиля  \n",
       "14  165127.911772              покупка жилой недвижимости  \n",
       "15  116820.904450  строительство собственной недвижимости  \n",
       "16  289202.704229                            недвижимость  \n",
       "17   90410.586745              строительство недвижимости  \n",
       "18   56823.777243      на покупку подержанного автомобиля  \n",
       "19  242831.107982            на покупку своего автомобиля  "
      ]
     },
     "execution_count": 35,
     "metadata": {},
     "output_type": "execute_result"
    }
   ],
   "source": [
    "data.head(20)"
   ]
  },
  {
   "cell_type": "markdown",
   "id": "2a945906",
   "metadata": {
    "deletable": false,
    "editable": false,
    "id": "0ed8f27f"
   },
   "source": [
    "**Задание 3. Выведите основную информацию о датафрейме с помощью метода `info()`.**"
   ]
  },
  {
   "cell_type": "code",
   "execution_count": 36,
   "id": "d3e6f7bf",
   "metadata": {
    "deletable": false,
    "id": "ab3f863b",
    "outputId": "15376089-8dad-46c9-b520-c05248d43158"
   },
   "outputs": [
    {
     "name": "stdout",
     "output_type": "stream",
     "text": [
      "<class 'pandas.core.frame.DataFrame'>\n",
      "RangeIndex: 21525 entries, 0 to 21524\n",
      "Data columns (total 12 columns):\n",
      " #   Column            Non-Null Count  Dtype  \n",
      "---  ------            --------------  -----  \n",
      " 0   children          21525 non-null  int64  \n",
      " 1   days_employed     19351 non-null  float64\n",
      " 2   dob_years         21525 non-null  int64  \n",
      " 3   education         21525 non-null  object \n",
      " 4   education_id      21525 non-null  int64  \n",
      " 5   family_status     21525 non-null  object \n",
      " 6   family_status_id  21525 non-null  int64  \n",
      " 7   gender            21525 non-null  object \n",
      " 8   income_type       21525 non-null  object \n",
      " 9   debt              21525 non-null  int64  \n",
      " 10  total_income      19351 non-null  float64\n",
      " 11  purpose           21525 non-null  object \n",
      "dtypes: float64(2), int64(5), object(5)\n",
      "memory usage: 2.0+ MB\n"
     ]
    }
   ],
   "source": [
    "data.info()"
   ]
  },
  {
   "cell_type": "markdown",
   "id": "4bc37e76",
   "metadata": {
    "deletable": false,
    "editable": false,
    "id": "60e3e22d"
   },
   "source": [
    "## Предобработка данных"
   ]
  },
  {
   "cell_type": "markdown",
   "id": "10b0c8f5",
   "metadata": {
    "deletable": false,
    "editable": false,
    "id": "03dc170c"
   },
   "source": [
    "### Удаление пропусков"
   ]
  },
  {
   "cell_type": "markdown",
   "id": "440d2d71",
   "metadata": {
    "deletable": false,
    "editable": false,
    "id": "a4f54eef"
   },
   "source": [
    "**Задание 4. Выведите количество пропущенных значений для каждого столбца. Используйте комбинацию двух методов.**"
   ]
  },
  {
   "cell_type": "code",
   "execution_count": 37,
   "id": "dbe6d11f",
   "metadata": {
    "deletable": false,
    "id": "2dc372b2",
    "outputId": "81f4d817-781c-465c-ed15-91ce4446810d"
   },
   "outputs": [
    {
     "data": {
      "text/plain": [
       "children               0\n",
       "days_employed       2174\n",
       "dob_years              0\n",
       "education              0\n",
       "education_id           0\n",
       "family_status          0\n",
       "family_status_id       0\n",
       "gender                 0\n",
       "income_type            0\n",
       "debt                   0\n",
       "total_income        2174\n",
       "purpose                0\n",
       "dtype: int64"
      ]
     },
     "execution_count": 37,
     "metadata": {},
     "output_type": "execute_result"
    }
   ],
   "source": [
    "data.isna().sum()"
   ]
  },
  {
   "cell_type": "markdown",
   "id": "d204f394",
   "metadata": {
    "deletable": false,
    "editable": false,
    "id": "14f011b1"
   },
   "source": [
    "**Задание 5. В двух столбцах есть пропущенные значения. Один из них — `days_employed`. Пропуски в этом столбце вы обработаете на следующем этапе. Другой столбец с пропущенными значениями — `total_income` — хранит данные о доходах. На сумму дохода сильнее всего влияет тип занятости, поэтому заполнить пропуски в этом столбце нужно медианным значением по каждому типу из столбца `income_type`. Например, у человека с типом занятости `сотрудник` пропуск в столбце `total_income` должен быть заполнен медианным доходом среди всех записей с тем же типом.**"
   ]
  },
  {
   "cell_type": "code",
   "execution_count": 38,
   "id": "7136bd56",
   "metadata": {
    "deletable": false,
    "id": "bdabfb6e"
   },
   "outputs": [],
   "source": [
    "for t in data['income_type'].unique():\n",
    "    data.loc[(data['income_type'] == t) & (data['total_income'].isna()), 'total_income'] = \\\n",
    "    data.loc[(data['income_type'] == t), 'total_income'].median()"
   ]
  },
  {
   "cell_type": "markdown",
   "id": "f2ae425e",
   "metadata": {
    "deletable": false,
    "editable": false,
    "id": "5be34059"
   },
   "source": [
    "### Обработка аномальных значений"
   ]
  },
  {
   "cell_type": "markdown",
   "id": "e2256497",
   "metadata": {
    "deletable": false,
    "editable": false,
    "id": "a87606cb"
   },
   "source": [
    "**Задание 6. В данных могут встречаться артефакты (аномалии) — значения, которые не отражают действительность и появились по какой-то ошибке. таким артефактом будет отрицательное количество дней трудового стажа в столбце `days_employed`. Для реальных данных это нормально. Обработайте значения в этом столбце: замените все отрицательные значения положительными с помощью метода `abs()`.**"
   ]
  },
  {
   "cell_type": "code",
   "execution_count": 39,
   "id": "733bd623",
   "metadata": {
    "deletable": false,
    "id": "020c46cc"
   },
   "outputs": [],
   "source": [
    "data['days_employed'] = data['days_employed'].abs()"
   ]
  },
  {
   "cell_type": "markdown",
   "id": "1b5ea2af",
   "metadata": {
    "deletable": false,
    "editable": false,
    "id": "45538a3a"
   },
   "source": [
    "**Задание 7. Для каждого типа занятости выведите медианное значение трудового стажа `days_employed` в днях.**"
   ]
  },
  {
   "cell_type": "code",
   "execution_count": 40,
   "id": "73c5ae7a",
   "metadata": {
    "deletable": false,
    "id": "cd3e6328",
    "outputId": "801ef80e-522b-4668-f34e-565af7432bcf"
   },
   "outputs": [
    {
     "data": {
      "text/plain": [
       "income_type\n",
       "безработный        366413.652744\n",
       "в декрете            3296.759962\n",
       "госслужащий          2689.368353\n",
       "компаньон            1547.382223\n",
       "пенсионер          365213.306266\n",
       "предприниматель       520.848083\n",
       "сотрудник            1574.202821\n",
       "студент               578.751554\n",
       "Name: days_employed, dtype: float64"
      ]
     },
     "execution_count": 40,
     "metadata": {},
     "output_type": "execute_result"
    }
   ],
   "source": [
    "data.groupby('income_type')['days_employed'].agg('median')"
   ]
  },
  {
   "cell_type": "markdown",
   "id": "924ef4b7",
   "metadata": {
    "deletable": false,
    "editable": false,
    "id": "90c5f058"
   },
   "source": [
    "У двух типов (безработные и пенсионеры) получатся аномально большие значения. Исправить такие значения сложно, поэтому оставьте их как есть."
   ]
  },
  {
   "cell_type": "markdown",
   "id": "57b3e780",
   "metadata": {
    "deletable": false,
    "editable": false,
    "id": "9652e50d"
   },
   "source": [
    "**Задание 8. Выведите перечень уникальных значений столбца `children`.**"
   ]
  },
  {
   "cell_type": "code",
   "execution_count": 41,
   "id": "3f435b29",
   "metadata": {
    "deletable": false,
    "id": "dbb37b8e",
    "outputId": "6975b15c-7f95-4697-d16d-a0c79b657b03"
   },
   "outputs": [
    {
     "data": {
      "text/plain": [
       "array([ 1,  0,  3,  2, -1,  4, 20,  5], dtype=int64)"
      ]
     },
     "execution_count": 41,
     "metadata": {},
     "output_type": "execute_result"
    }
   ],
   "source": [
    "data['children'].unique()"
   ]
  },
  {
   "cell_type": "markdown",
   "id": "74c631c3",
   "metadata": {
    "deletable": false,
    "editable": false,
    "id": "2b8b0715"
   },
   "source": [
    "**Задание 9. В столбце `children` есть два аномальных значения. Удалите строки, в которых встречаются такие аномальные значения из датафрейма `data`.**"
   ]
  },
  {
   "cell_type": "code",
   "execution_count": 42,
   "id": "a2cd2f84",
   "metadata": {
    "deletable": false,
    "id": "20009df8"
   },
   "outputs": [],
   "source": [
    "data = data[(data['children'] != -1) & (data['children'] != 20)]"
   ]
  },
  {
   "cell_type": "markdown",
   "id": "97a93ed2",
   "metadata": {
    "deletable": false,
    "editable": false,
    "id": "8c6ac9f1"
   },
   "source": [
    "**Задание 10. Ещё раз выведите перечень уникальных значений столбца `children`, чтобы убедиться, что артефакты удалены.**"
   ]
  },
  {
   "cell_type": "code",
   "execution_count": 43,
   "id": "0d918aa3",
   "metadata": {
    "deletable": false,
    "id": "07337b81",
    "outputId": "b2097101-d49d-44d9-901b-32a65c9463d1"
   },
   "outputs": [
    {
     "data": {
      "text/plain": [
       "array([1, 0, 3, 2, 4, 5], dtype=int64)"
      ]
     },
     "execution_count": 43,
     "metadata": {},
     "output_type": "execute_result"
    }
   ],
   "source": [
    "data['children'].unique()"
   ]
  },
  {
   "cell_type": "markdown",
   "id": "b15c7d5c",
   "metadata": {
    "deletable": false,
    "editable": false,
    "id": "ee3f52d4"
   },
   "source": [
    "### Удаление пропусков (продолжение)"
   ]
  },
  {
   "cell_type": "markdown",
   "id": "5f5bfc7c",
   "metadata": {
    "deletable": false,
    "editable": false,
    "id": "a700b0e4"
   },
   "source": [
    "**Задание 11. Заполните пропуски в столбце `days_employed` медианными значениями по каждого типа занятости `income_type`.**"
   ]
  },
  {
   "cell_type": "code",
   "execution_count": 44,
   "id": "64385a60",
   "metadata": {
    "deletable": false,
    "id": "61946b83"
   },
   "outputs": [],
   "source": [
    "for t in data['income_type'].unique():\n",
    "    data.loc[(data['income_type'] == t) & (data['days_employed'].isna()), 'days_employed'] = \\\n",
    "    data.loc[(data['income_type'] == t), 'days_employed'].median()"
   ]
  },
  {
   "cell_type": "markdown",
   "id": "a88c0b07",
   "metadata": {
    "deletable": false,
    "editable": false,
    "id": "550dcd9b"
   },
   "source": [
    "**Задание 12. Убедитесь, что все пропуски заполнены. Проверьте себя и ещё раз выведите количество пропущенных значений для каждого столбца с помощью двух методов.**"
   ]
  },
  {
   "cell_type": "code",
   "execution_count": 45,
   "id": "634949ff",
   "metadata": {
    "deletable": false,
    "id": "937c7014",
    "outputId": "8da1e4e1-358e-4e87-98c9-f261bce0a7b2"
   },
   "outputs": [
    {
     "data": {
      "text/plain": [
       "children            0\n",
       "days_employed       0\n",
       "dob_years           0\n",
       "education           0\n",
       "education_id        0\n",
       "family_status       0\n",
       "family_status_id    0\n",
       "gender              0\n",
       "income_type         0\n",
       "debt                0\n",
       "total_income        0\n",
       "purpose             0\n",
       "dtype: int64"
      ]
     },
     "execution_count": 45,
     "metadata": {},
     "output_type": "execute_result"
    }
   ],
   "source": [
    "data.isna().sum()"
   ]
  },
  {
   "cell_type": "markdown",
   "id": "b91596c2",
   "metadata": {
    "deletable": false,
    "editable": false,
    "id": "d522e295"
   },
   "source": [
    "### Изменение типов данных"
   ]
  },
  {
   "cell_type": "markdown",
   "id": "590d1294",
   "metadata": {
    "deletable": false,
    "editable": false,
    "id": "c229c581"
   },
   "source": [
    "**Задание 13. Замените вещественный тип данных в столбце `total_income` на целочисленный с помощью метода `astype()`.**"
   ]
  },
  {
   "cell_type": "code",
   "execution_count": 46,
   "id": "62598501",
   "metadata": {
    "deletable": false,
    "id": "31036462"
   },
   "outputs": [],
   "source": [
    "data['total_income'] = data['total_income'].astype(int)"
   ]
  },
  {
   "cell_type": "markdown",
   "id": "b2d0cc41",
   "metadata": {
    "deletable": false,
    "editable": false,
    "id": "b8e3d1d9"
   },
   "source": [
    "### Обработка дубликатов"
   ]
  },
  {
   "cell_type": "markdown",
   "id": "eeabeb05",
   "metadata": {
    "deletable": false,
    "editable": false,
    "id": "9be53c49"
   },
   "source": [
    "**Задание 14. Обработайте неявные дубликаты в столбце `education`. В этом столбце есть одни и те же значения, но записанные по-разному: с использованием заглавных и строчных букв. Приведите их к нижнему регистру.**"
   ]
  },
  {
   "cell_type": "code",
   "execution_count": 47,
   "id": "afa8c1d8",
   "metadata": {
    "deletable": false,
    "id": "d89e73e1"
   },
   "outputs": [],
   "source": [
    "data['education'] = data['education'].str.lower()"
   ]
  },
  {
   "cell_type": "markdown",
   "id": "7a0b086d",
   "metadata": {
    "deletable": false,
    "editable": false,
    "id": "01d4500e"
   },
   "source": [
    "**Задание 15. Выведите на экран количество строк-дубликатов в данных. Если такие строки присутствуют, удалите их.**"
   ]
  },
  {
   "cell_type": "code",
   "execution_count": 48,
   "id": "1e735cfa",
   "metadata": {
    "deletable": false,
    "id": "e10efb23",
    "outputId": "9684deba-1934-42d1-99e1-cda61740f822"
   },
   "outputs": [
    {
     "data": {
      "text/plain": [
       "71"
      ]
     },
     "execution_count": 48,
     "metadata": {},
     "output_type": "execute_result"
    }
   ],
   "source": [
    "data.duplicated().sum()"
   ]
  },
  {
   "cell_type": "code",
   "execution_count": 49,
   "id": "5490fd16",
   "metadata": {
    "deletable": false,
    "id": "df853f20"
   },
   "outputs": [],
   "source": [
    "data = data.drop_duplicates()"
   ]
  },
  {
   "cell_type": "markdown",
   "id": "c4815658",
   "metadata": {
    "deletable": false,
    "editable": false,
    "id": "627be38f"
   },
   "source": [
    "### Категоризация данных"
   ]
  },
  {
   "cell_type": "markdown",
   "id": "2e2fd5aa",
   "metadata": {
    "deletable": false,
    "editable": false,
    "id": "4684c3e0"
   },
   "source": [
    "**Задание 16. На основании диапазонов, указанных ниже, создайте в датафрейме `data` столбец `total_income_category` с категориями:**\n",
    "\n",
    "- 0–30000 — `'E'`;\n",
    "- 30001–50000 — `'D'`;\n",
    "- 50001–200000 — `'C'`;\n",
    "- 200001–1000000 — `'B'`;\n",
    "- 1000001 и выше — `'A'`.\n",
    "\n",
    "\n",
    "**Например, кредитополучателю с доходом 25000 нужно назначить категорию `'E'`, а клиенту, получающему 235000, — `'B'`. Используйте собственную функцию с именем `categorize_income()` и метод `apply()`.**"
   ]
  },
  {
   "cell_type": "code",
   "execution_count": 50,
   "id": "3a3de9b8",
   "metadata": {
    "deletable": false,
    "id": "78965238"
   },
   "outputs": [],
   "source": [
    "def categorize_income(income):\n",
    "    try:\n",
    "        if 0 <= income <= 30000:\n",
    "            return 'E'\n",
    "        elif 30001 <= income <= 50000:\n",
    "            return 'D'\n",
    "        elif 50001 <= income <= 200000:\n",
    "            return 'C'\n",
    "        elif 200001 <= income <= 1000000:\n",
    "            return 'B'\n",
    "        elif income >= 1000001:\n",
    "            return 'A'\n",
    "    except:\n",
    "        pass"
   ]
  },
  {
   "cell_type": "code",
   "execution_count": 51,
   "id": "06d582d8",
   "metadata": {
    "deletable": false,
    "id": "0980ada1"
   },
   "outputs": [],
   "source": [
    "data['total_income_category'] = data['total_income'].apply(categorize_income)"
   ]
  },
  {
   "cell_type": "markdown",
   "id": "b156ad2f",
   "metadata": {
    "deletable": false,
    "editable": false,
    "id": "9917bba0"
   },
   "source": [
    "**Задание 17. Выведите на экран перечень уникальных целей взятия кредита из столбца `purpose`.**"
   ]
  },
  {
   "cell_type": "code",
   "execution_count": 52,
   "id": "c7dc665f",
   "metadata": {
    "deletable": false,
    "id": "ee07b65e",
    "outputId": "673c12d9-7d7e-4ae0-9812-c622c89dd244"
   },
   "outputs": [
    {
     "data": {
      "text/plain": [
       "array(['покупка жилья', 'приобретение автомобиля',\n",
       "       'дополнительное образование', 'сыграть свадьбу',\n",
       "       'операции с жильем', 'образование', 'на проведение свадьбы',\n",
       "       'покупка жилья для семьи', 'покупка недвижимости',\n",
       "       'покупка коммерческой недвижимости', 'покупка жилой недвижимости',\n",
       "       'строительство собственной недвижимости', 'недвижимость',\n",
       "       'строительство недвижимости', 'на покупку подержанного автомобиля',\n",
       "       'на покупку своего автомобиля',\n",
       "       'операции с коммерческой недвижимостью',\n",
       "       'строительство жилой недвижимости', 'жилье',\n",
       "       'операции со своей недвижимостью', 'автомобили',\n",
       "       'заняться образованием', 'сделка с подержанным автомобилем',\n",
       "       'получение образования', 'автомобиль', 'свадьба',\n",
       "       'получение дополнительного образования', 'покупка своего жилья',\n",
       "       'операции с недвижимостью', 'получение высшего образования',\n",
       "       'свой автомобиль', 'сделка с автомобилем',\n",
       "       'профильное образование', 'высшее образование',\n",
       "       'покупка жилья для сдачи', 'на покупку автомобиля', 'ремонт жилью',\n",
       "       'заняться высшим образованием'], dtype=object)"
      ]
     },
     "execution_count": 52,
     "metadata": {},
     "output_type": "execute_result"
    }
   ],
   "source": [
    "data['purpose'].unique()"
   ]
  },
  {
   "cell_type": "markdown",
   "id": "be2f5fd4",
   "metadata": {
    "deletable": false,
    "editable": false,
    "id": "52b79d56"
   },
   "source": [
    "**Задание 18. Создайте функцию, которая на основании данных из столбца `purpose` сформирует новый столбец `purpose_category`, в который войдут следующие категории:**\n",
    "\n",
    "- `'операции с автомобилем'`,\n",
    "- `'операции с недвижимостью'`,\n",
    "- `'проведение свадьбы'`,\n",
    "- `'получение образования'`.\n",
    "\n",
    "**Например, если в столбце `purpose` находится подстрока `'на покупку автомобиля'`, то в столбце `purpose_category` должна появиться строка `'операции с автомобилем'`.**\n",
    "\n",
    "**Используйте собственную функцию с именем `categorize_purpose()` и метод `apply()`. Изучите данные в столбце `purpose` и определите, какие подстроки помогут вам правильно определить категорию.**"
   ]
  },
  {
   "cell_type": "code",
   "execution_count": 53,
   "id": "2fc33872",
   "metadata": {
    "deletable": false,
    "id": "be41da5d"
   },
   "outputs": [],
   "source": [
    "def categorize_purpose(row):\n",
    "    try:\n",
    "        if 'автом' in row:\n",
    "            return 'операции с автомобилем'\n",
    "        elif 'жил' in row or 'недвиж' in row:\n",
    "            return 'операции с недвижимостью'\n",
    "        elif 'свад' in row:\n",
    "            return 'проведение свадьбы'\n",
    "        elif 'образов' in row:\n",
    "            return 'получение образования'\n",
    "    except:\n",
    "        return 'нет категории'"
   ]
  },
  {
   "cell_type": "code",
   "execution_count": 54,
   "id": "e5bda5e7",
   "metadata": {
    "deletable": false,
    "id": "94c4a19a"
   },
   "outputs": [],
   "source": [
    "data['purpose_category'] = data['purpose'].apply(categorize_purpose)"
   ]
  },
  {
   "cell_type": "markdown",
   "id": "a116e1d3",
   "metadata": {
    "deletable": false,
    "editable": false,
    "id": "3d596c34"
   },
   "source": [
    "### Шаг 3. Исследуйте данные и ответьте на вопросы"
   ]
  },
  {
   "cell_type": "markdown",
   "id": "042156b5",
   "metadata": {
    "deletable": false,
    "editable": false,
    "id": "648db036"
   },
   "source": [
    "#### 3.1 Есть ли зависимость между количеством детей и возвратом кредита в срок?"
   ]
  },
  {
   "cell_type": "code",
   "execution_count": 55,
   "id": "3c6a2432",
   "metadata": {
    "deletable": false,
    "id": "7fcff25e"
   },
   "outputs": [],
   "source": [
    "# Ваш код будет здесь. Вы можете создавать новые ячейки.\n",
    "# Подсчёт детей в каждом группе(1-есть кредитная задолженость, 0-нет кредитной задолженности)\n"
   ]
  },
  {
   "cell_type": "markdown",
   "id": "1cf31430",
   "metadata": {},
   "source": [
    "Чтобы понять есть ли зависимость между количеством детей и возвратом кредита в срок узнаем в \n",
    "процентном соотношении в каждой группе отношение количество людей с кредитной задолженностью \n",
    "по отношению ко всей группе.А также проверим количество людей в кажой группе, чтобы убедиться,\n",
    "что в группах много наблюдений, чтобы делать статисчески значимые выводы.\n",
    "\n",
    "Для этого создадим сводную таблицу с количеством людей в каждой категории children и по наличию \n",
    "задолженности с помощью метода pivot_data.\n",
    "\n",
    "В качестве строк таблицы выберем столбец children с помщью атрибута index, для столбцов выберем\n",
    "столбец debt.\n"
   ]
  },
  {
   "cell_type": "code",
   "execution_count": 56,
   "id": "1a5333ff",
   "metadata": {
    "scrolled": true
   },
   "outputs": [
    {
     "data": {
      "text/html": [
       "<div>\n",
       "<style scoped>\n",
       "    .dataframe tbody tr th:only-of-type {\n",
       "        vertical-align: middle;\n",
       "    }\n",
       "\n",
       "    .dataframe tbody tr th {\n",
       "        vertical-align: top;\n",
       "    }\n",
       "\n",
       "    .dataframe thead th {\n",
       "        text-align: right;\n",
       "    }\n",
       "</style>\n",
       "<table border=\"1\" class=\"dataframe\">\n",
       "  <thead>\n",
       "    <tr style=\"text-align: right;\">\n",
       "      <th>debt</th>\n",
       "      <th>0</th>\n",
       "      <th>1</th>\n",
       "    </tr>\n",
       "    <tr>\n",
       "      <th>children</th>\n",
       "      <th></th>\n",
       "      <th></th>\n",
       "    </tr>\n",
       "  </thead>\n",
       "  <tbody>\n",
       "    <tr>\n",
       "      <th>0</th>\n",
       "      <td>13028</td>\n",
       "      <td>1063</td>\n",
       "    </tr>\n",
       "    <tr>\n",
       "      <th>1</th>\n",
       "      <td>4364</td>\n",
       "      <td>444</td>\n",
       "    </tr>\n",
       "    <tr>\n",
       "      <th>2</th>\n",
       "      <td>1858</td>\n",
       "      <td>194</td>\n",
       "    </tr>\n",
       "    <tr>\n",
       "      <th>3</th>\n",
       "      <td>303</td>\n",
       "      <td>27</td>\n",
       "    </tr>\n",
       "    <tr>\n",
       "      <th>4</th>\n",
       "      <td>37</td>\n",
       "      <td>4</td>\n",
       "    </tr>\n",
       "    <tr>\n",
       "      <th>5</th>\n",
       "      <td>9</td>\n",
       "      <td>0</td>\n",
       "    </tr>\n",
       "  </tbody>\n",
       "</table>\n",
       "</div>"
      ],
      "text/plain": [
       "debt          0     1\n",
       "children             \n",
       "0         13028  1063\n",
       "1          4364   444\n",
       "2          1858   194\n",
       "3           303    27\n",
       "4            37     4\n",
       "5             9     0"
      ]
     },
     "execution_count": 56,
     "metadata": {},
     "output_type": "execute_result"
    }
   ],
   "source": [
    "pivot_data = data.pivot_table(index = 'children', columns = ['debt'], values = 'education', aggfunc='count', fill_value = 0)\n",
    "pivot_data"
   ]
  },
  {
   "cell_type": "markdown",
   "id": "bcb69928",
   "metadata": {},
   "source": [
    "Добваим столбец к таблице, где количество людей с кредитной задолженностью делятся \n",
    "на сумму количества людей с кредитной задолженностью и без кредитной задолженности.Потом это все\n",
    "выражение умножается на 100, чтобы мы увидели результат в процентах."
   ]
  },
  {
   "cell_type": "code",
   "execution_count": 57,
   "id": "7a35fbd5",
   "metadata": {},
   "outputs": [
    {
     "data": {
      "text/html": [
       "<div>\n",
       "<style scoped>\n",
       "    .dataframe tbody tr th:only-of-type {\n",
       "        vertical-align: middle;\n",
       "    }\n",
       "\n",
       "    .dataframe tbody tr th {\n",
       "        vertical-align: top;\n",
       "    }\n",
       "\n",
       "    .dataframe thead th {\n",
       "        text-align: right;\n",
       "    }\n",
       "</style>\n",
       "<table border=\"1\" class=\"dataframe\">\n",
       "  <thead>\n",
       "    <tr style=\"text-align: right;\">\n",
       "      <th>debt</th>\n",
       "      <th>0</th>\n",
       "      <th>1</th>\n",
       "      <th>rate</th>\n",
       "    </tr>\n",
       "    <tr>\n",
       "      <th>children</th>\n",
       "      <th></th>\n",
       "      <th></th>\n",
       "      <th></th>\n",
       "    </tr>\n",
       "  </thead>\n",
       "  <tbody>\n",
       "    <tr>\n",
       "      <th>0</th>\n",
       "      <td>13028</td>\n",
       "      <td>1063</td>\n",
       "      <td>7.543822</td>\n",
       "    </tr>\n",
       "    <tr>\n",
       "      <th>1</th>\n",
       "      <td>4364</td>\n",
       "      <td>444</td>\n",
       "      <td>9.234609</td>\n",
       "    </tr>\n",
       "    <tr>\n",
       "      <th>2</th>\n",
       "      <td>1858</td>\n",
       "      <td>194</td>\n",
       "      <td>9.454191</td>\n",
       "    </tr>\n",
       "    <tr>\n",
       "      <th>3</th>\n",
       "      <td>303</td>\n",
       "      <td>27</td>\n",
       "      <td>8.181818</td>\n",
       "    </tr>\n",
       "    <tr>\n",
       "      <th>4</th>\n",
       "      <td>37</td>\n",
       "      <td>4</td>\n",
       "      <td>9.756098</td>\n",
       "    </tr>\n",
       "    <tr>\n",
       "      <th>5</th>\n",
       "      <td>9</td>\n",
       "      <td>0</td>\n",
       "      <td>0.000000</td>\n",
       "    </tr>\n",
       "  </tbody>\n",
       "</table>\n",
       "</div>"
      ],
      "text/plain": [
       "debt          0     1      rate\n",
       "children                       \n",
       "0         13028  1063  7.543822\n",
       "1          4364   444  9.234609\n",
       "2          1858   194  9.454191\n",
       "3           303    27  8.181818\n",
       "4            37     4  9.756098\n",
       "5             9     0  0.000000"
      ]
     },
     "execution_count": 57,
     "metadata": {},
     "output_type": "execute_result"
    }
   ],
   "source": [
    "pivot_data['rate'] = pivot_data[1]/(pivot_data[0]+pivot_data[1])*100\n",
    "pivot_data"
   ]
  },
  {
   "cell_type": "markdown",
   "id": "3a2dae82",
   "metadata": {},
   "source": [
    "Мы видим, что без детей и с 5 детьми меньше всего задолженностей, но количественных данных мало в \n",
    "этой категории, что является не репрезентативными. Поэтому будем сравнивать категории с большим \n",
    "количеством данных, то есть категории людей без детей, с одним ребенком и двумя.\n",
    "Больше всего задолженностей у людей с двумя детьми.\n"
   ]
  },
  {
   "cell_type": "markdown",
   "id": "d7c8f38e",
   "metadata": {
    "deletable": false,
    "id": "2eb9088e"
   },
   "source": [
    "**Вывод: группы с 0,1 и 2 детьми самы репрезентативны. \n",
    "Все они имеют разный процент задолженностей.**\n",
    "\n",
    "**Значит  зависимость между количеством детей и возвратом кредита в срок есть.**\n",
    "\n",
    "**Так же мы видим, что с увеличением количества детей процент задолженностей растет.**\n",
    "\n",
    "**Люди без детей имеют самый маленький процент задолженнойстей.**\n",
    "\n",
    "**Люди с 2 детьми имеют самый большой процент задолженнойстей.** "
   ]
  },
  {
   "cell_type": "markdown",
   "id": "ca77ad60",
   "metadata": {
    "deletable": false,
    "editable": false,
    "id": "74c9b3a7"
   },
   "source": [
    "#### 3.2 Есть ли зависимость между семейным положением и возвратом кредита в срок?"
   ]
  },
  {
   "cell_type": "code",
   "execution_count": 58,
   "id": "476e7b5f",
   "metadata": {
    "deletable": false,
    "id": "8098ab3b"
   },
   "outputs": [],
   "source": [
    "# Ваш код будет здесь. Вы можете создавать новые ячейки."
   ]
  },
  {
   "cell_type": "markdown",
   "id": "61d8184d",
   "metadata": {},
   "source": [
    "Чтобы понять есть ли зависимость между количеством детей и возвратом кредита в срок узнаем в \n",
    "процентном соотношении в каждой группе отношение количество людей с кредитной задолженностью \n",
    "по отношению ко всей группе.А также проверим количество людей в кажой группе, чтобы убедиться,\n",
    "что в группах много наблюдений, чтобы делать статисчески значимые выводы.\n",
    "\n",
    "Для этого создадим сводную таблицу с количеством людей в каждой категории family_status и по наличию \n",
    "задолженности с помощью метода pivot_data.\n",
    "\n",
    "В качестве строк таблицы выберем столбец family_status с помщью атрибута index, для столбцов выберем\n",
    "столбец debt."
   ]
  },
  {
   "cell_type": "code",
   "execution_count": 59,
   "id": "b78090a1",
   "metadata": {},
   "outputs": [
    {
     "data": {
      "text/html": [
       "<div>\n",
       "<style scoped>\n",
       "    .dataframe tbody tr th:only-of-type {\n",
       "        vertical-align: middle;\n",
       "    }\n",
       "\n",
       "    .dataframe tbody tr th {\n",
       "        vertical-align: top;\n",
       "    }\n",
       "\n",
       "    .dataframe thead th {\n",
       "        text-align: right;\n",
       "    }\n",
       "</style>\n",
       "<table border=\"1\" class=\"dataframe\">\n",
       "  <thead>\n",
       "    <tr style=\"text-align: right;\">\n",
       "      <th>debt</th>\n",
       "      <th>0</th>\n",
       "      <th>1</th>\n",
       "    </tr>\n",
       "    <tr>\n",
       "      <th>family_status</th>\n",
       "      <th></th>\n",
       "      <th></th>\n",
       "    </tr>\n",
       "  </thead>\n",
       "  <tbody>\n",
       "    <tr>\n",
       "      <th>Не женат / не замужем</th>\n",
       "      <td>2523</td>\n",
       "      <td>273</td>\n",
       "    </tr>\n",
       "    <tr>\n",
       "      <th>в разводе</th>\n",
       "      <td>1105</td>\n",
       "      <td>84</td>\n",
       "    </tr>\n",
       "    <tr>\n",
       "      <th>вдовец / вдова</th>\n",
       "      <td>888</td>\n",
       "      <td>63</td>\n",
       "    </tr>\n",
       "    <tr>\n",
       "      <th>гражданский брак</th>\n",
       "      <td>3749</td>\n",
       "      <td>385</td>\n",
       "    </tr>\n",
       "    <tr>\n",
       "      <th>женат / замужем</th>\n",
       "      <td>11334</td>\n",
       "      <td>927</td>\n",
       "    </tr>\n",
       "  </tbody>\n",
       "</table>\n",
       "</div>"
      ],
      "text/plain": [
       "debt                       0    1\n",
       "family_status                    \n",
       "Не женат / не замужем   2523  273\n",
       "в разводе               1105   84\n",
       "вдовец / вдова           888   63\n",
       "гражданский брак        3749  385\n",
       "женат / замужем        11334  927"
      ]
     },
     "execution_count": 59,
     "metadata": {},
     "output_type": "execute_result"
    }
   ],
   "source": [
    "pivot_data = data.pivot_table(index = 'family_status', columns = ['debt'], values = 'education', aggfunc='count', fill_value = 0)\n",
    "pivot_data"
   ]
  },
  {
   "cell_type": "markdown",
   "id": "edada2e6",
   "metadata": {},
   "source": [
    "Добваим столбец к таблице, где количество людей с кредитной задолженностью делятся \n",
    "на сумму количества людей с кредитной задолженностью и без кредитной задолженности.Потом это все\n",
    "выражение умножается на 100, чтобы мы увидели результат в процентах."
   ]
  },
  {
   "cell_type": "code",
   "execution_count": 60,
   "id": "d4ad261b",
   "metadata": {},
   "outputs": [
    {
     "data": {
      "text/html": [
       "<div>\n",
       "<style scoped>\n",
       "    .dataframe tbody tr th:only-of-type {\n",
       "        vertical-align: middle;\n",
       "    }\n",
       "\n",
       "    .dataframe tbody tr th {\n",
       "        vertical-align: top;\n",
       "    }\n",
       "\n",
       "    .dataframe thead th {\n",
       "        text-align: right;\n",
       "    }\n",
       "</style>\n",
       "<table border=\"1\" class=\"dataframe\">\n",
       "  <thead>\n",
       "    <tr style=\"text-align: right;\">\n",
       "      <th>debt</th>\n",
       "      <th>0</th>\n",
       "      <th>1</th>\n",
       "      <th>rate</th>\n",
       "    </tr>\n",
       "    <tr>\n",
       "      <th>family_status</th>\n",
       "      <th></th>\n",
       "      <th></th>\n",
       "      <th></th>\n",
       "    </tr>\n",
       "  </thead>\n",
       "  <tbody>\n",
       "    <tr>\n",
       "      <th>Не женат / не замужем</th>\n",
       "      <td>2523</td>\n",
       "      <td>273</td>\n",
       "      <td>9.763948</td>\n",
       "    </tr>\n",
       "    <tr>\n",
       "      <th>в разводе</th>\n",
       "      <td>1105</td>\n",
       "      <td>84</td>\n",
       "      <td>7.064760</td>\n",
       "    </tr>\n",
       "    <tr>\n",
       "      <th>вдовец / вдова</th>\n",
       "      <td>888</td>\n",
       "      <td>63</td>\n",
       "      <td>6.624606</td>\n",
       "    </tr>\n",
       "    <tr>\n",
       "      <th>гражданский брак</th>\n",
       "      <td>3749</td>\n",
       "      <td>385</td>\n",
       "      <td>9.313014</td>\n",
       "    </tr>\n",
       "    <tr>\n",
       "      <th>женат / замужем</th>\n",
       "      <td>11334</td>\n",
       "      <td>927</td>\n",
       "      <td>7.560558</td>\n",
       "    </tr>\n",
       "  </tbody>\n",
       "</table>\n",
       "</div>"
      ],
      "text/plain": [
       "debt                       0    1      rate\n",
       "family_status                              \n",
       "Не женат / не замужем   2523  273  9.763948\n",
       "в разводе               1105   84  7.064760\n",
       "вдовец / вдова           888   63  6.624606\n",
       "гражданский брак        3749  385  9.313014\n",
       "женат / замужем        11334  927  7.560558"
      ]
     },
     "execution_count": 60,
     "metadata": {},
     "output_type": "execute_result"
    }
   ],
   "source": [
    "pivot_data['rate'] = pivot_data[1]/(pivot_data[0]+pivot_data[1])*100\n",
    "pivot_data"
   ]
  },
  {
   "cell_type": "markdown",
   "id": "be0e0f14",
   "metadata": {
    "deletable": false,
    "id": "c389ca63"
   },
   "source": [
    "**Вывод:повышенный возврат кредита у вдовцов, \n",
    "на втором месте в разводе и женат/замужем \n",
    "и на третьем месте гражданский брак и не женат/не замужем.**\n",
    "\n",
    "**Если обобщить категории по отношению к браку, можно сказать, что состоящие или состоявшие в браке заемщики реже допускают просрочки.**"
   ]
  },
  {
   "cell_type": "markdown",
   "id": "05d8fcc7",
   "metadata": {
    "deletable": false,
    "editable": false,
    "id": "9529de68"
   },
   "source": [
    "#### 3.3 Есть ли зависимость между уровнем дохода и возвратом кредита в срок?"
   ]
  },
  {
   "cell_type": "code",
   "execution_count": 61,
   "id": "14e3aa80",
   "metadata": {
    "deletable": false,
    "id": "8787f44a"
   },
   "outputs": [],
   "source": [
    "# Ваш код будет здесь. Вы можете создавать новые ячейки."
   ]
  },
  {
   "cell_type": "markdown",
   "id": "daf65aba",
   "metadata": {},
   "source": [
    "Чтобы понять есть ли зависимость между количеством детей и возвратом кредита в срок узнаем в процентном соотношении в каждой группе отношение количество людей с кредитной задолженностью по отношению ко всей группе.А также проверим количество людей в кажой группе, чтобы убедиться, что в группах много наблюдений, чтобы делать статисчески значимые выводы.\n",
    "\n",
    "Для этого создадим сводную таблицу с количеством людей в каждой категории total_income_category и по наличию задолженности с помощью метода pivot_data.\n",
    "\n",
    "В качестве строк таблицы выберем столбец total_income_category с помщью атрибута index, для столбцов выберем столбец debt."
   ]
  },
  {
   "cell_type": "code",
   "execution_count": 62,
   "id": "4325e29e",
   "metadata": {},
   "outputs": [
    {
     "data": {
      "text/html": [
       "<div>\n",
       "<style scoped>\n",
       "    .dataframe tbody tr th:only-of-type {\n",
       "        vertical-align: middle;\n",
       "    }\n",
       "\n",
       "    .dataframe tbody tr th {\n",
       "        vertical-align: top;\n",
       "    }\n",
       "\n",
       "    .dataframe thead th {\n",
       "        text-align: right;\n",
       "    }\n",
       "</style>\n",
       "<table border=\"1\" class=\"dataframe\">\n",
       "  <thead>\n",
       "    <tr style=\"text-align: right;\">\n",
       "      <th>debt</th>\n",
       "      <th>0</th>\n",
       "      <th>1</th>\n",
       "    </tr>\n",
       "    <tr>\n",
       "      <th>total_income_category</th>\n",
       "      <th></th>\n",
       "      <th></th>\n",
       "    </tr>\n",
       "  </thead>\n",
       "  <tbody>\n",
       "    <tr>\n",
       "      <th>A</th>\n",
       "      <td>23</td>\n",
       "      <td>2</td>\n",
       "    </tr>\n",
       "    <tr>\n",
       "      <th>B</th>\n",
       "      <td>4660</td>\n",
       "      <td>354</td>\n",
       "    </tr>\n",
       "    <tr>\n",
       "      <th>C</th>\n",
       "      <td>14568</td>\n",
       "      <td>1353</td>\n",
       "    </tr>\n",
       "    <tr>\n",
       "      <th>D</th>\n",
       "      <td>328</td>\n",
       "      <td>21</td>\n",
       "    </tr>\n",
       "    <tr>\n",
       "      <th>E</th>\n",
       "      <td>20</td>\n",
       "      <td>2</td>\n",
       "    </tr>\n",
       "  </tbody>\n",
       "</table>\n",
       "</div>"
      ],
      "text/plain": [
       "debt                       0     1\n",
       "total_income_category             \n",
       "A                         23     2\n",
       "B                       4660   354\n",
       "C                      14568  1353\n",
       "D                        328    21\n",
       "E                         20     2"
      ]
     },
     "execution_count": 62,
     "metadata": {},
     "output_type": "execute_result"
    }
   ],
   "source": [
    "pivot_data = data.pivot_table(index = 'total_income_category', columns = ['debt'], values = 'education', aggfunc='count', fill_value = 0)\n",
    "pivot_data"
   ]
  },
  {
   "cell_type": "markdown",
   "id": "99afa770",
   "metadata": {},
   "source": [
    "Добваим столбец к таблице, где количество людей с кредитной задолженностью делятся \n",
    "на сумму количества людей с кредитной задолженностью и без кредитной задолженности.Потом это все\n",
    "выражение умножается на 100, чтобы мы увидели результат в процентах."
   ]
  },
  {
   "cell_type": "code",
   "execution_count": 63,
   "id": "8fb9f307",
   "metadata": {},
   "outputs": [
    {
     "data": {
      "text/html": [
       "<div>\n",
       "<style scoped>\n",
       "    .dataframe tbody tr th:only-of-type {\n",
       "        vertical-align: middle;\n",
       "    }\n",
       "\n",
       "    .dataframe tbody tr th {\n",
       "        vertical-align: top;\n",
       "    }\n",
       "\n",
       "    .dataframe thead th {\n",
       "        text-align: right;\n",
       "    }\n",
       "</style>\n",
       "<table border=\"1\" class=\"dataframe\">\n",
       "  <thead>\n",
       "    <tr style=\"text-align: right;\">\n",
       "      <th>debt</th>\n",
       "      <th>0</th>\n",
       "      <th>1</th>\n",
       "      <th>rate</th>\n",
       "    </tr>\n",
       "    <tr>\n",
       "      <th>total_income_category</th>\n",
       "      <th></th>\n",
       "      <th></th>\n",
       "      <th></th>\n",
       "    </tr>\n",
       "  </thead>\n",
       "  <tbody>\n",
       "    <tr>\n",
       "      <th>A</th>\n",
       "      <td>23</td>\n",
       "      <td>2</td>\n",
       "      <td>8.000000</td>\n",
       "    </tr>\n",
       "    <tr>\n",
       "      <th>B</th>\n",
       "      <td>4660</td>\n",
       "      <td>354</td>\n",
       "      <td>7.060231</td>\n",
       "    </tr>\n",
       "    <tr>\n",
       "      <th>C</th>\n",
       "      <td>14568</td>\n",
       "      <td>1353</td>\n",
       "      <td>8.498210</td>\n",
       "    </tr>\n",
       "    <tr>\n",
       "      <th>D</th>\n",
       "      <td>328</td>\n",
       "      <td>21</td>\n",
       "      <td>6.017192</td>\n",
       "    </tr>\n",
       "    <tr>\n",
       "      <th>E</th>\n",
       "      <td>20</td>\n",
       "      <td>2</td>\n",
       "      <td>9.090909</td>\n",
       "    </tr>\n",
       "  </tbody>\n",
       "</table>\n",
       "</div>"
      ],
      "text/plain": [
       "debt                       0     1      rate\n",
       "total_income_category                       \n",
       "A                         23     2  8.000000\n",
       "B                       4660   354  7.060231\n",
       "C                      14568  1353  8.498210\n",
       "D                        328    21  6.017192\n",
       "E                         20     2  9.090909"
      ]
     },
     "execution_count": 63,
     "metadata": {},
     "output_type": "execute_result"
    }
   ],
   "source": [
    "pivot_data['rate'] = pivot_data[1]/(pivot_data[0]+pivot_data[1])*100\n",
    "pivot_data"
   ]
  },
  {
   "cell_type": "markdown",
   "id": "317b959d",
   "metadata": {},
   "source": [
    "Мы видим, что количественных данных мало в \n",
    "этой категориях A,D,E, что является не репрезентативными. Поэтому будем сравнивать категории с большим \n",
    "количеством данных, то есть категории B и C."
   ]
  },
  {
   "cell_type": "markdown",
   "id": "ae8c172b",
   "metadata": {
    "deletable": false,
    "id": "6dd14b57"
   },
   "source": [
    "**Вывод: больше всего возвращают кредит в категории B, где зарплата 200 001–1 000 000руб,**\n",
    "\n",
    "**меньше всего возвращают кредит в категории С, где зарплата 50 001–200 000руб.** \n",
    "\n",
    "**Чем больше зарплата,тем больше возвращают кредит.**"
   ]
  },
  {
   "cell_type": "markdown",
   "id": "b0ed652d",
   "metadata": {
    "deletable": false,
    "editable": false,
    "id": "1dcc9b12"
   },
   "source": [
    "#### 3.4 Как разные цели кредита влияют на его возврат в срок?"
   ]
  },
  {
   "cell_type": "code",
   "execution_count": 64,
   "id": "56bcbd84",
   "metadata": {
    "deletable": false,
    "id": "c602bc8b"
   },
   "outputs": [],
   "source": [
    "# Ваш код будет здесь. Вы можете создавать новые ячейки."
   ]
  },
  {
   "cell_type": "markdown",
   "id": "d246cb3f",
   "metadata": {},
   "source": [
    "Чтобы понять есть ли зависимость между количеством детей и возвратом кредита в срок узнаем в процентном соотношении в каждой группе отношение количество людей с кредитной задолженностью по отношению ко всей группе.А также проверим количество людей в кажой группе, чтобы убедиться, что в группах много наблюдений, чтобы делать статисчески значимые выводы.\n",
    "\n",
    "Для этого создадим сводную таблицу с количеством людей в каждой категории total_income_category и по наличию задолженности с помощью метода pivot_data.\n",
    "\n",
    "В качестве строк таблицы выберем столбец purpose_category с помщью атрибута index, для столбцов выберем столбец debt."
   ]
  },
  {
   "cell_type": "code",
   "execution_count": 65,
   "id": "f805bfc4",
   "metadata": {},
   "outputs": [
    {
     "data": {
      "text/html": [
       "<div>\n",
       "<style scoped>\n",
       "    .dataframe tbody tr th:only-of-type {\n",
       "        vertical-align: middle;\n",
       "    }\n",
       "\n",
       "    .dataframe tbody tr th {\n",
       "        vertical-align: top;\n",
       "    }\n",
       "\n",
       "    .dataframe thead th {\n",
       "        text-align: right;\n",
       "    }\n",
       "</style>\n",
       "<table border=\"1\" class=\"dataframe\">\n",
       "  <thead>\n",
       "    <tr style=\"text-align: right;\">\n",
       "      <th>debt</th>\n",
       "      <th>0</th>\n",
       "      <th>1</th>\n",
       "    </tr>\n",
       "    <tr>\n",
       "      <th>purpose_category</th>\n",
       "      <th></th>\n",
       "      <th></th>\n",
       "    </tr>\n",
       "  </thead>\n",
       "  <tbody>\n",
       "    <tr>\n",
       "      <th>операции с автомобилем</th>\n",
       "      <td>3879</td>\n",
       "      <td>400</td>\n",
       "    </tr>\n",
       "    <tr>\n",
       "      <th>операции с недвижимостью</th>\n",
       "      <td>9971</td>\n",
       "      <td>780</td>\n",
       "    </tr>\n",
       "    <tr>\n",
       "      <th>получение образования</th>\n",
       "      <td>3619</td>\n",
       "      <td>369</td>\n",
       "    </tr>\n",
       "    <tr>\n",
       "      <th>проведение свадьбы</th>\n",
       "      <td>2130</td>\n",
       "      <td>183</td>\n",
       "    </tr>\n",
       "  </tbody>\n",
       "</table>\n",
       "</div>"
      ],
      "text/plain": [
       "debt                         0    1\n",
       "purpose_category                   \n",
       "операции с автомобилем    3879  400\n",
       "операции с недвижимостью  9971  780\n",
       "получение образования     3619  369\n",
       "проведение свадьбы        2130  183"
      ]
     },
     "execution_count": 65,
     "metadata": {},
     "output_type": "execute_result"
    }
   ],
   "source": [
    "pivot_data = data.pivot_table(index = 'purpose_category', columns = ['debt'], values = 'education', aggfunc='count', fill_value = 0)\n",
    "pivot_data"
   ]
  },
  {
   "cell_type": "markdown",
   "id": "fd3d3780",
   "metadata": {},
   "source": [
    "Добваим столбец к таблице, где количество людей с кредитной задолженностью делятся \n",
    "на сумму количества людей с кредитной задолженностью и без кредитной задолженности.Потом это все\n",
    "выражение умножается на 100, чтобы мы увидели результат в процентах."
   ]
  },
  {
   "cell_type": "code",
   "execution_count": 66,
   "id": "0bdc93b3",
   "metadata": {},
   "outputs": [
    {
     "data": {
      "text/html": [
       "<div>\n",
       "<style scoped>\n",
       "    .dataframe tbody tr th:only-of-type {\n",
       "        vertical-align: middle;\n",
       "    }\n",
       "\n",
       "    .dataframe tbody tr th {\n",
       "        vertical-align: top;\n",
       "    }\n",
       "\n",
       "    .dataframe thead th {\n",
       "        text-align: right;\n",
       "    }\n",
       "</style>\n",
       "<table border=\"1\" class=\"dataframe\">\n",
       "  <thead>\n",
       "    <tr style=\"text-align: right;\">\n",
       "      <th>debt</th>\n",
       "      <th>0</th>\n",
       "      <th>1</th>\n",
       "      <th>rate</th>\n",
       "    </tr>\n",
       "    <tr>\n",
       "      <th>purpose_category</th>\n",
       "      <th></th>\n",
       "      <th></th>\n",
       "      <th></th>\n",
       "    </tr>\n",
       "  </thead>\n",
       "  <tbody>\n",
       "    <tr>\n",
       "      <th>операции с автомобилем</th>\n",
       "      <td>3879</td>\n",
       "      <td>400</td>\n",
       "      <td>9.347978</td>\n",
       "    </tr>\n",
       "    <tr>\n",
       "      <th>операции с недвижимостью</th>\n",
       "      <td>9971</td>\n",
       "      <td>780</td>\n",
       "      <td>7.255139</td>\n",
       "    </tr>\n",
       "    <tr>\n",
       "      <th>получение образования</th>\n",
       "      <td>3619</td>\n",
       "      <td>369</td>\n",
       "      <td>9.252758</td>\n",
       "    </tr>\n",
       "    <tr>\n",
       "      <th>проведение свадьбы</th>\n",
       "      <td>2130</td>\n",
       "      <td>183</td>\n",
       "      <td>7.911803</td>\n",
       "    </tr>\n",
       "  </tbody>\n",
       "</table>\n",
       "</div>"
      ],
      "text/plain": [
       "debt                         0    1      rate\n",
       "purpose_category                             \n",
       "операции с автомобилем    3879  400  9.347978\n",
       "операции с недвижимостью  9971  780  7.255139\n",
       "получение образования     3619  369  9.252758\n",
       "проведение свадьбы        2130  183  7.911803"
      ]
     },
     "execution_count": 66,
     "metadata": {},
     "output_type": "execute_result"
    }
   ],
   "source": [
    "pivot_data['rate'] = pivot_data[1]/(pivot_data[0]+pivot_data[1])*100\n",
    "pivot_data"
   ]
  },
  {
   "cell_type": "markdown",
   "id": "bb04dced",
   "metadata": {
    "deletable": false,
    "id": "cf05ed63"
   },
   "source": [
    "**Вывод: больше всего возвращают кредит взятый на операции с недвижимостью и проведение свадеб а самыми проблемными выглядят автокредиты и кредиты на образование.** "
   ]
  },
  {
   "cell_type": "markdown",
   "id": "5744bd26",
   "metadata": {
    "deletable": false,
    "editable": false,
    "id": "46c1f10b"
   },
   "source": [
    "#### 3.5 Приведите возможные причины появления пропусков в исходных данных."
   ]
  },
  {
   "cell_type": "markdown",
   "id": "130755f4",
   "metadata": {
    "deletable": false,
    "id": "3697d2a9"
   },
   "source": [
    "*Ответ: пропуски в данном лучае в столбце зарплата, могли получиться из-за того что, \n",
    "если банк собирал данные у клиентов, то клиенты могли намеренно не указывать данные, либо если банк собирал самостоятельно эти данные, то человек мог получать зарплату в другом банке.Так же пропуски в столбце количества дней на работе тоже могли люди не указать.\n",
    "В общем случе, пропуски могли появиться из-за человеческого фактора или во время перегрузки файла из одного места в другое* "
   ]
  },
  {
   "cell_type": "markdown",
   "id": "09e74d79",
   "metadata": {
    "deletable": false,
    "editable": false,
    "id": "3137d257"
   },
   "source": [
    "#### 3.6 Объясните, почему заполнить пропуски медианным значением — лучшее решение для количественных переменных."
   ]
  },
  {
   "cell_type": "markdown",
   "id": "f645db4b",
   "metadata": {
    "deletable": false,
    "id": "cf40012a"
   },
   "source": [
    "*Ответ:Потому,что если использовать среднее арифметическое, то при добавлении новых выдающихся данных, среднее будет увеличивать, а медианное останется таким же. Если удалять строки с выдащимися данными, то они могут повлиять на данные* "
   ]
  },
  {
   "cell_type": "markdown",
   "id": "aae8bc8b",
   "metadata": {
    "deletable": false,
    "editable": false,
    "id": "57bc304e"
   },
   "source": [
    "### Шаг 4: общий вывод."
   ]
  },
  {
   "cell_type": "markdown",
   "id": "a9e737cb",
   "metadata": {
    "deletable": false,
    "id": "1ab75d1c"
   },
   "source": [
    "Напишите ваш общий вывод."
   ]
  },
  {
   "cell_type": "markdown",
   "id": "7bc580ff",
   "metadata": {},
   "source": [
    "Исследование надежности заемщиков началось с предобработки данных. \n",
    "\n",
    "Мы проверили и исправили соотвествие типов каждому столбцу, напрмер в столбце children \n",
    "не могли быть объекты типа odject.\n",
    "\n",
    "Заменили пропуски в столбце с зарплатой total_income медианным значением.\n",
    "\n",
    "Избавились от отрицательного значения количества дней трудового стажа в столбце days_employed с помощью метода abs().\n",
    "Удалили строки с артефактами по столбцу children.\n",
    "\n",
    "Сделали довали новые объединящие категории для зарплаты и целей взятия кредита.\n",
    "\n",
    "Проверили зависимости между количеством детей,семейным положением,уровнем дохода, целей кредита и возвратом кредита в срок.\n",
    "\n",
    "\n",
    "Какие зависимости мы смогли выявить:\n",
    "\n",
    "-что с увеличением количества детей процент задолженностей растет;\n",
    "\n",
    "- что состоящие или состоявшие в браке заемщики реже допускают просрочки, а гражданский брак и не женат/не замужем больше допускают просрочек;\n",
    "\n",
    "-что чем больше зарплата,тем больше возвращают кредит;\n",
    "\n",
    "-что больше всего возвращают кредит взятый на операции с недвижимостью и проведение свадеб, а самыми проблемными выглядят автокредиты и кредиты на образование.\n",
    "\n",
    "\n",
    "Можно выделить портрет идеального заемщика:\n",
    "Бездетный, когда-либо вступавший в брак, зарплата 200 001–1 000 000руб, кредит взятый на операции с недвижимостью и проведение свадеб.\n",
    "\n",
    "Для примера можно представить:\n",
    "Молодая пара, которая собирается взять кредит на свадьбу или на недвижимость, и при этом уже имеют высокую зарплату на работе.\n",
    "Либо это уже взрослая пара, у которой дети уже выросли, и это их не первая свадьба,работают за высокую зарплату.\n",
    "\n",
    "Портрет рискового заемщика:\n",
    "от 2 детей, в гражданском браке или не женат/не замужем, зарплата меньше 50 000руб.,кредит взятый на автокредиты или на образование\n",
    "\n",
    "Для примера можно представить:\n",
    "Родитель 2 детей берет кредит на учебу для ребенка или автомобиль, с зарплатой меньше 50 000руб.\n",
    "\n",
    "\n",
    "Рекомендациями по улучшению сбора данных и системы скоринга:\n",
    "\n",
    "-если банк собирает данные на основе анкет на сайте, то предлагаем сделать ограничение на детей, количество дней трудового стажа,зарплату, ограничение сделать больше 0;\n",
    "\n",
    "-можно объединять малочисленные группы людей: например не 3,4,5 детей и т.д., а одна группа >=3;\n",
    "\n",
    "-сделать выдающися список целей на кредит  т.е. клиенту не нужно все вручную писать, а вбрать категорию из выпадающего списка."
   ]
  }
 ],
 "metadata": {
  "ExecuteTimeLog": [
   {
    "duration": 474,
    "start_time": "2023-09-21T05:22:24.139Z"
   },
   {
    "duration": 25,
    "start_time": "2023-09-21T05:22:30.211Z"
   },
   {
    "duration": 12,
    "start_time": "2023-09-21T05:27:45.939Z"
   },
   {
    "duration": 17,
    "start_time": "2023-09-21T05:28:46.506Z"
   },
   {
    "duration": 16,
    "start_time": "2023-09-21T05:28:47.669Z"
   },
   {
    "duration": 17,
    "start_time": "2023-09-21T05:28:50.321Z"
   },
   {
    "duration": 17,
    "start_time": "2023-09-21T05:28:53.843Z"
   },
   {
    "duration": 12,
    "start_time": "2023-09-21T05:28:57.040Z"
   },
   {
    "duration": 36,
    "start_time": "2023-09-21T05:28:59.048Z"
   },
   {
    "duration": 4,
    "start_time": "2023-09-21T05:29:01.560Z"
   },
   {
    "duration": 7,
    "start_time": "2023-09-21T05:29:03.071Z"
   },
   {
    "duration": 4,
    "start_time": "2023-09-21T05:29:05.432Z"
   },
   {
    "duration": 7,
    "start_time": "2023-09-21T05:29:07.062Z"
   },
   {
    "duration": 5,
    "start_time": "2023-09-21T05:29:09.678Z"
   },
   {
    "duration": 36,
    "start_time": "2023-09-21T05:29:14.036Z"
   },
   {
    "duration": 11,
    "start_time": "2023-09-21T05:29:20.690Z"
   },
   {
    "duration": 4,
    "start_time": "2023-09-21T05:29:23.049Z"
   },
   {
    "duration": 12,
    "start_time": "2023-09-21T05:29:25.022Z"
   },
   {
    "duration": 19,
    "start_time": "2023-09-21T05:29:26.308Z"
   },
   {
    "duration": 19,
    "start_time": "2023-09-21T05:29:27.135Z"
   },
   {
    "duration": 4,
    "start_time": "2023-09-21T05:29:30.476Z"
   },
   {
    "duration": 11,
    "start_time": "2023-09-21T05:29:31.345Z"
   },
   {
    "duration": 7,
    "start_time": "2023-09-21T05:29:33.996Z"
   },
   {
    "duration": 3,
    "start_time": "2023-09-21T05:29:41.205Z"
   },
   {
    "duration": 11,
    "start_time": "2023-09-21T05:29:42.540Z"
   },
   {
    "duration": 2,
    "start_time": "2023-09-21T05:29:59.253Z"
   },
   {
    "duration": 1337,
    "start_time": "2023-09-21T06:11:01.266Z"
   },
   {
    "duration": 54,
    "start_time": "2023-09-21T06:13:18.807Z"
   },
   {
    "duration": 33,
    "start_time": "2023-09-21T06:13:27.353Z"
   },
   {
    "duration": 3,
    "start_time": "2023-09-21T06:21:52.020Z"
   },
   {
    "duration": 4,
    "start_time": "2023-09-21T06:44:09.032Z"
   },
   {
    "duration": 7,
    "start_time": "2023-09-21T06:46:50.370Z"
   },
   {
    "duration": 7,
    "start_time": "2023-09-21T06:47:35.466Z"
   },
   {
    "duration": 6,
    "start_time": "2023-09-21T06:47:58.673Z"
   },
   {
    "duration": 6,
    "start_time": "2023-09-21T06:48:06.088Z"
   },
   {
    "duration": 8,
    "start_time": "2023-09-21T06:50:13.345Z"
   },
   {
    "duration": 4,
    "start_time": "2023-09-21T07:18:42.303Z"
   },
   {
    "duration": 24,
    "start_time": "2023-09-21T07:18:43.145Z"
   },
   {
    "duration": 4,
    "start_time": "2023-09-21T07:19:05.279Z"
   },
   {
    "duration": 4,
    "start_time": "2023-09-21T07:19:10.311Z"
   },
   {
    "duration": 224,
    "start_time": "2023-09-21T07:19:11.279Z"
   },
   {
    "duration": 9,
    "start_time": "2023-09-21T07:19:12.883Z"
   },
   {
    "duration": 4,
    "start_time": "2023-09-21T07:19:27.897Z"
   },
   {
    "duration": 234,
    "start_time": "2023-09-21T07:19:28.437Z"
   },
   {
    "duration": 13,
    "start_time": "2023-09-21T07:19:29.589Z"
   },
   {
    "duration": 3,
    "start_time": "2023-09-21T07:20:16.883Z"
   },
   {
    "duration": 242,
    "start_time": "2023-09-21T07:20:18.314Z"
   },
   {
    "duration": 12,
    "start_time": "2023-09-21T07:20:19.396Z"
   },
   {
    "duration": 6,
    "start_time": "2023-09-21T07:21:14.446Z"
   },
   {
    "duration": 3,
    "start_time": "2023-09-21T07:21:32.661Z"
   },
   {
    "duration": 220,
    "start_time": "2023-09-21T07:21:33.617Z"
   },
   {
    "duration": 13,
    "start_time": "2023-09-21T07:21:34.413Z"
   },
   {
    "duration": 4,
    "start_time": "2023-09-21T07:22:27.989Z"
   },
   {
    "duration": 233,
    "start_time": "2023-09-21T07:22:28.583Z"
   },
   {
    "duration": 12,
    "start_time": "2023-09-21T07:22:29.032Z"
   },
   {
    "duration": 4,
    "start_time": "2023-09-21T07:23:05.495Z"
   },
   {
    "duration": 211,
    "start_time": "2023-09-21T07:23:06.165Z"
   },
   {
    "duration": 11,
    "start_time": "2023-09-21T07:23:06.702Z"
   },
   {
    "duration": 6,
    "start_time": "2023-09-21T07:23:32.483Z"
   },
   {
    "duration": 17,
    "start_time": "2023-09-21T07:32:53.483Z"
   },
   {
    "duration": 11,
    "start_time": "2023-09-21T07:34:31.126Z"
   },
   {
    "duration": 4,
    "start_time": "2023-09-21T08:39:38.173Z"
   },
   {
    "duration": 223,
    "start_time": "2023-09-21T08:39:42.193Z"
   },
   {
    "duration": 11,
    "start_time": "2023-09-21T08:39:43.184Z"
   },
   {
    "duration": 9,
    "start_time": "2023-09-21T08:40:05.682Z"
   },
   {
    "duration": 11,
    "start_time": "2023-09-21T08:40:09.852Z"
   },
   {
    "duration": 27,
    "start_time": "2023-09-21T09:02:31.074Z"
   },
   {
    "duration": 12,
    "start_time": "2023-09-21T09:03:02.811Z"
   },
   {
    "duration": 8,
    "start_time": "2023-09-21T09:04:37.883Z"
   },
   {
    "duration": 10,
    "start_time": "2023-09-21T09:04:44.694Z"
   },
   {
    "duration": 9,
    "start_time": "2023-09-21T09:05:30.351Z"
   },
   {
    "duration": 7,
    "start_time": "2023-09-21T09:05:31.862Z"
   },
   {
    "duration": 6,
    "start_time": "2023-09-21T09:08:00.971Z"
   },
   {
    "duration": 11,
    "start_time": "2023-09-21T09:11:30.027Z"
   },
   {
    "duration": 3607,
    "start_time": "2023-09-21T09:12:40.294Z"
   },
   {
    "duration": 2186,
    "start_time": "2023-09-21T09:15:38.611Z"
   },
   {
    "duration": 3,
    "start_time": "2023-09-21T09:22:54.379Z"
   },
   {
    "duration": 10,
    "start_time": "2023-09-21T09:22:55.078Z"
   },
   {
    "duration": 28,
    "start_time": "2023-09-21T09:23:30.175Z"
   },
   {
    "duration": 3,
    "start_time": "2023-09-21T09:23:35.915Z"
   },
   {
    "duration": 38,
    "start_time": "2023-09-21T09:23:37.819Z"
   },
   {
    "duration": 29,
    "start_time": "2023-09-21T09:23:53.242Z"
   },
   {
    "duration": 4,
    "start_time": "2023-09-21T09:24:22.786Z"
   },
   {
    "duration": 40,
    "start_time": "2023-09-21T09:24:24.336Z"
   },
   {
    "duration": 3,
    "start_time": "2023-09-21T09:25:44.220Z"
   },
   {
    "duration": 43,
    "start_time": "2023-09-21T09:25:44.828Z"
   },
   {
    "duration": 3,
    "start_time": "2023-09-21T09:26:23.695Z"
   },
   {
    "duration": 58,
    "start_time": "2023-09-21T09:26:24.961Z"
   },
   {
    "duration": 3,
    "start_time": "2023-09-21T09:26:43.020Z"
   },
   {
    "duration": 59,
    "start_time": "2023-09-21T09:26:46.813Z"
   },
   {
    "duration": 3,
    "start_time": "2023-09-21T09:27:08.294Z"
   },
   {
    "duration": 48,
    "start_time": "2023-09-21T09:27:09.047Z"
   },
   {
    "duration": 3,
    "start_time": "2023-09-21T09:27:26.534Z"
   },
   {
    "duration": 55,
    "start_time": "2023-09-21T09:27:27.504Z"
   },
   {
    "duration": 3,
    "start_time": "2023-09-21T09:27:52.925Z"
   },
   {
    "duration": 69,
    "start_time": "2023-09-21T09:27:53.553Z"
   },
   {
    "duration": 4,
    "start_time": "2023-09-21T09:28:13.382Z"
   },
   {
    "duration": 73,
    "start_time": "2023-09-21T09:28:15.240Z"
   },
   {
    "duration": 3,
    "start_time": "2023-09-21T09:28:29.955Z"
   },
   {
    "duration": 68,
    "start_time": "2023-09-21T09:28:31.176Z"
   },
   {
    "duration": 3,
    "start_time": "2023-09-21T09:31:37.497Z"
   },
   {
    "duration": 2881,
    "start_time": "2023-09-21T09:31:38.428Z"
   },
   {
    "duration": 4,
    "start_time": "2023-09-21T09:33:08.549Z"
   },
   {
    "duration": 19,
    "start_time": "2023-09-21T09:33:09.187Z"
   },
   {
    "duration": 26,
    "start_time": "2023-09-21T09:38:45.894Z"
   },
   {
    "duration": 7,
    "start_time": "2023-09-21T09:40:12.923Z"
   },
   {
    "duration": 14,
    "start_time": "2023-09-21T09:45:12.686Z"
   },
   {
    "duration": 16,
    "start_time": "2023-09-21T09:46:33.440Z"
   },
   {
    "duration": 12,
    "start_time": "2023-09-21T09:46:54.904Z"
   },
   {
    "duration": 11,
    "start_time": "2023-09-21T09:47:15.016Z"
   },
   {
    "duration": 13,
    "start_time": "2023-09-21T09:48:36.271Z"
   },
   {
    "duration": 11,
    "start_time": "2023-09-21T09:49:59.698Z"
   },
   {
    "duration": 12,
    "start_time": "2023-09-21T10:35:01.425Z"
   },
   {
    "duration": 10,
    "start_time": "2023-09-21T10:35:26.714Z"
   },
   {
    "duration": 15,
    "start_time": "2023-09-21T10:36:56.102Z"
   },
   {
    "duration": 176,
    "start_time": "2023-09-21T10:39:21.566Z"
   },
   {
    "duration": 10,
    "start_time": "2023-09-21T10:39:42.330Z"
   },
   {
    "duration": 16,
    "start_time": "2023-09-21T10:39:57.529Z"
   },
   {
    "duration": 3,
    "start_time": "2023-09-21T11:00:43.735Z"
   },
   {
    "duration": 3,
    "start_time": "2023-09-21T11:09:04.579Z"
   },
   {
    "duration": 3,
    "start_time": "2023-09-21T11:09:06.111Z"
   },
   {
    "duration": 13,
    "start_time": "2023-09-21T11:11:01.170Z"
   },
   {
    "duration": 3,
    "start_time": "2023-09-21T11:20:05.537Z"
   },
   {
    "duration": 4,
    "start_time": "2023-09-21T11:20:06.195Z"
   },
   {
    "duration": 19,
    "start_time": "2023-09-21T11:20:06.766Z"
   },
   {
    "duration": 6,
    "start_time": "2023-09-21T11:20:38.370Z"
   },
   {
    "duration": 26,
    "start_time": "2023-09-21T11:20:38.886Z"
   },
   {
    "duration": 16,
    "start_time": "2023-09-21T11:21:38.545Z"
   },
   {
    "duration": 34,
    "start_time": "2023-09-21T11:23:29.095Z"
   },
   {
    "duration": 34,
    "start_time": "2023-09-21T11:23:33.674Z"
   },
   {
    "duration": 22,
    "start_time": "2023-09-21T11:23:42.683Z"
   },
   {
    "duration": 16,
    "start_time": "2023-09-21T11:23:49.805Z"
   },
   {
    "duration": 18,
    "start_time": "2023-09-21T11:24:17.596Z"
   },
   {
    "duration": 18,
    "start_time": "2023-09-21T11:25:32.332Z"
   },
   {
    "duration": 18,
    "start_time": "2023-09-21T11:25:39.802Z"
   },
   {
    "duration": 24,
    "start_time": "2023-09-21T11:26:44.940Z"
   },
   {
    "duration": 16,
    "start_time": "2023-09-21T11:26:46.744Z"
   },
   {
    "duration": 4,
    "start_time": "2023-09-21T11:31:55.819Z"
   },
   {
    "duration": 24,
    "start_time": "2023-09-21T11:31:56.548Z"
   },
   {
    "duration": 16,
    "start_time": "2023-09-21T11:31:59.793Z"
   },
   {
    "duration": 5,
    "start_time": "2023-09-21T11:33:50.051Z"
   },
   {
    "duration": 4,
    "start_time": "2023-09-21T11:33:53.052Z"
   },
   {
    "duration": 18,
    "start_time": "2023-09-21T11:33:53.959Z"
   },
   {
    "duration": 104,
    "start_time": "2023-09-21T11:36:08.022Z"
   },
   {
    "duration": 17,
    "start_time": "2023-09-21T11:36:17.654Z"
   },
   {
    "duration": 95,
    "start_time": "2023-09-21T11:39:32.193Z"
   },
   {
    "duration": 14,
    "start_time": "2023-09-21T11:53:29.875Z"
   },
   {
    "duration": 23,
    "start_time": "2023-09-21T11:53:41.478Z"
   },
   {
    "duration": 13,
    "start_time": "2023-09-21T11:55:33.459Z"
   },
   {
    "duration": 19,
    "start_time": "2023-09-21T12:00:21.828Z"
   },
   {
    "duration": 18,
    "start_time": "2023-09-21T12:01:51.327Z"
   },
   {
    "duration": 19,
    "start_time": "2023-09-21T12:06:57.503Z"
   },
   {
    "duration": 12,
    "start_time": "2023-09-21T12:07:56.763Z"
   },
   {
    "duration": 27,
    "start_time": "2023-09-21T12:28:07.223Z"
   },
   {
    "duration": 726,
    "start_time": "2023-09-21T17:25:39.303Z"
   },
   {
    "duration": 31,
    "start_time": "2023-09-21T17:25:40.032Z"
   },
   {
    "duration": 63,
    "start_time": "2023-09-21T17:25:40.065Z"
   },
   {
    "duration": 43,
    "start_time": "2023-09-21T17:25:40.130Z"
   },
   {
    "duration": 39,
    "start_time": "2023-09-21T17:25:40.176Z"
   },
   {
    "duration": 3,
    "start_time": "2023-09-21T17:25:40.217Z"
   },
   {
    "duration": 11,
    "start_time": "2023-09-21T17:25:40.222Z"
   },
   {
    "duration": 4,
    "start_time": "2023-09-21T17:25:40.235Z"
   },
   {
    "duration": 26,
    "start_time": "2023-09-21T17:25:40.241Z"
   },
   {
    "duration": 12,
    "start_time": "2023-09-21T17:25:40.269Z"
   },
   {
    "duration": 49,
    "start_time": "2023-09-21T17:25:40.282Z"
   },
   {
    "duration": 28,
    "start_time": "2023-09-21T17:25:40.333Z"
   },
   {
    "duration": 4,
    "start_time": "2023-09-21T17:25:40.366Z"
   },
   {
    "duration": 26,
    "start_time": "2023-09-21T17:25:40.374Z"
   },
   {
    "duration": 26,
    "start_time": "2023-09-21T17:25:40.402Z"
   },
   {
    "duration": 22,
    "start_time": "2023-09-21T17:25:40.430Z"
   },
   {
    "duration": 9,
    "start_time": "2023-09-21T17:25:40.457Z"
   },
   {
    "duration": 13,
    "start_time": "2023-09-21T17:25:40.468Z"
   },
   {
    "duration": 8,
    "start_time": "2023-09-21T17:25:40.482Z"
   },
   {
    "duration": 7,
    "start_time": "2023-09-21T17:25:40.491Z"
   },
   {
    "duration": 30,
    "start_time": "2023-09-21T17:25:40.500Z"
   },
   {
    "duration": 26,
    "start_time": "2023-09-21T17:25:40.532Z"
   },
   {
    "duration": 8,
    "start_time": "2023-09-21T17:25:40.559Z"
   },
   {
    "duration": 25,
    "start_time": "2023-09-21T17:25:40.569Z"
   },
   {
    "duration": 13,
    "start_time": "2023-09-21T17:25:40.596Z"
   },
   {
    "duration": 23,
    "start_time": "2023-09-21T17:25:40.611Z"
   },
   {
    "duration": 46,
    "start_time": "2023-09-21T17:25:40.636Z"
   },
   {
    "duration": 45,
    "start_time": "2023-09-21T17:25:40.684Z"
   },
   {
    "duration": 15,
    "start_time": "2023-09-21T17:25:40.732Z"
   },
   {
    "duration": 23,
    "start_time": "2023-09-21T17:25:40.752Z"
   },
   {
    "duration": 14,
    "start_time": "2023-09-21T17:25:40.777Z"
   },
   {
    "duration": 3,
    "start_time": "2023-09-21T17:25:40.792Z"
   },
   {
    "duration": 21,
    "start_time": "2023-09-21T17:25:40.797Z"
   },
   {
    "duration": 40,
    "start_time": "2023-09-21T17:25:40.820Z"
   },
   {
    "duration": 51,
    "start_time": "2023-09-21T21:26:13.265Z"
   },
   {
    "duration": 551,
    "start_time": "2023-09-21T21:26:44.811Z"
   },
   {
    "duration": 26,
    "start_time": "2023-09-21T21:26:45.365Z"
   },
   {
    "duration": 18,
    "start_time": "2023-09-21T21:26:45.393Z"
   },
   {
    "duration": 12,
    "start_time": "2023-09-21T21:26:45.413Z"
   },
   {
    "duration": 67,
    "start_time": "2023-09-21T21:26:45.428Z"
   },
   {
    "duration": 4,
    "start_time": "2023-09-21T21:26:45.496Z"
   },
   {
    "duration": 20,
    "start_time": "2023-09-21T21:26:45.502Z"
   },
   {
    "duration": 20,
    "start_time": "2023-09-21T21:26:45.524Z"
   },
   {
    "duration": 29,
    "start_time": "2023-09-21T21:26:45.545Z"
   },
   {
    "duration": 11,
    "start_time": "2023-09-21T21:26:45.576Z"
   },
   {
    "duration": 37,
    "start_time": "2023-09-21T21:26:45.588Z"
   },
   {
    "duration": 11,
    "start_time": "2023-09-21T21:26:45.627Z"
   },
   {
    "duration": 26,
    "start_time": "2023-09-21T21:26:45.640Z"
   },
   {
    "duration": 17,
    "start_time": "2023-09-21T21:26:45.670Z"
   },
   {
    "duration": 39,
    "start_time": "2023-09-21T21:26:45.689Z"
   },
   {
    "duration": 19,
    "start_time": "2023-09-21T21:26:45.729Z"
   },
   {
    "duration": 8,
    "start_time": "2023-09-21T21:26:45.750Z"
   },
   {
    "duration": 30,
    "start_time": "2023-09-21T21:26:45.760Z"
   },
   {
    "duration": 24,
    "start_time": "2023-09-21T21:26:45.791Z"
   },
   {
    "duration": 4,
    "start_time": "2023-09-21T21:26:45.817Z"
   },
   {
    "duration": 24,
    "start_time": "2023-09-21T21:26:45.822Z"
   },
   {
    "duration": 12,
    "start_time": "2023-09-21T21:26:45.848Z"
   },
   {
    "duration": 13,
    "start_time": "2023-09-21T21:26:45.861Z"
   },
   {
    "duration": 25,
    "start_time": "2023-09-21T21:26:45.878Z"
   },
   {
    "duration": 28,
    "start_time": "2023-09-21T21:26:50.329Z"
   },
   {
    "duration": 7,
    "start_time": "2023-09-21T21:26:56.894Z"
   },
   {
    "duration": 8,
    "start_time": "2023-09-21T21:27:21.596Z"
   },
   {
    "duration": 55,
    "start_time": "2023-09-21T21:27:51.130Z"
   },
   {
    "duration": 59,
    "start_time": "2023-09-21T21:28:16.214Z"
   },
   {
    "duration": 24,
    "start_time": "2023-09-21T21:28:54.158Z"
   },
   {
    "duration": 15,
    "start_time": "2023-09-21T21:29:36.621Z"
   },
   {
    "duration": 26,
    "start_time": "2023-09-21T21:30:19.657Z"
   },
   {
    "duration": 20,
    "start_time": "2023-09-21T21:33:55.911Z"
   },
   {
    "duration": 19,
    "start_time": "2023-09-21T21:34:21.230Z"
   },
   {
    "duration": 20,
    "start_time": "2023-09-21T21:34:36.632Z"
   },
   {
    "duration": 22,
    "start_time": "2023-09-21T21:41:18.782Z"
   },
   {
    "duration": 20,
    "start_time": "2023-09-21T21:41:45.213Z"
   },
   {
    "duration": 17,
    "start_time": "2023-09-21T21:43:23.487Z"
   },
   {
    "duration": 1551,
    "start_time": "2023-09-21T21:44:20.746Z"
   },
   {
    "duration": 11,
    "start_time": "2023-09-21T21:45:01.643Z"
   },
   {
    "duration": 15,
    "start_time": "2023-09-21T21:46:26.373Z"
   },
   {
    "duration": 9,
    "start_time": "2023-09-21T21:46:28.446Z"
   },
   {
    "duration": 15,
    "start_time": "2023-09-21T21:47:37.269Z"
   },
   {
    "duration": 11,
    "start_time": "2023-09-21T21:47:44.898Z"
   },
   {
    "duration": 13,
    "start_time": "2023-09-21T21:47:51.774Z"
   },
   {
    "duration": 12,
    "start_time": "2023-09-21T21:48:03.841Z"
   },
   {
    "duration": 24,
    "start_time": "2023-09-21T21:48:12.343Z"
   },
   {
    "duration": 14,
    "start_time": "2023-09-21T21:48:58.544Z"
   },
   {
    "duration": 8,
    "start_time": "2023-09-21T21:49:46.005Z"
   },
   {
    "duration": 9,
    "start_time": "2023-09-21T21:50:02.244Z"
   },
   {
    "duration": 108,
    "start_time": "2023-09-22T03:33:03.753Z"
   },
   {
    "duration": 45,
    "start_time": "2023-09-22T04:18:48.192Z"
   },
   {
    "duration": 8,
    "start_time": "2023-09-22T04:19:04.533Z"
   },
   {
    "duration": 7,
    "start_time": "2023-09-22T04:19:27.116Z"
   },
   {
    "duration": 542,
    "start_time": "2023-09-22T04:22:01.384Z"
   },
   {
    "duration": 25,
    "start_time": "2023-09-22T04:22:01.929Z"
   },
   {
    "duration": 66,
    "start_time": "2023-09-22T04:22:01.955Z"
   },
   {
    "duration": 36,
    "start_time": "2023-09-22T04:22:02.023Z"
   },
   {
    "duration": 69,
    "start_time": "2023-09-22T04:22:02.061Z"
   },
   {
    "duration": 3,
    "start_time": "2023-09-22T04:22:02.132Z"
   },
   {
    "duration": 44,
    "start_time": "2023-09-22T04:22:02.137Z"
   },
   {
    "duration": 34,
    "start_time": "2023-09-22T04:22:02.183Z"
   },
   {
    "duration": 30,
    "start_time": "2023-09-22T04:22:02.218Z"
   },
   {
    "duration": 35,
    "start_time": "2023-09-22T04:22:02.251Z"
   },
   {
    "duration": 64,
    "start_time": "2023-09-22T04:22:02.287Z"
   },
   {
    "duration": 13,
    "start_time": "2023-09-22T04:22:02.353Z"
   },
   {
    "duration": 11,
    "start_time": "2023-09-22T04:22:02.367Z"
   },
   {
    "duration": 45,
    "start_time": "2023-09-22T04:22:02.379Z"
   },
   {
    "duration": 43,
    "start_time": "2023-09-22T04:22:02.426Z"
   },
   {
    "duration": 29,
    "start_time": "2023-09-22T04:22:02.472Z"
   },
   {
    "duration": 4,
    "start_time": "2023-09-22T04:22:02.503Z"
   },
   {
    "duration": 47,
    "start_time": "2023-09-22T04:22:02.509Z"
   },
   {
    "duration": 19,
    "start_time": "2023-09-22T04:22:02.558Z"
   },
   {
    "duration": 14,
    "start_time": "2023-09-22T04:22:02.579Z"
   },
   {
    "duration": 24,
    "start_time": "2023-09-22T04:22:02.595Z"
   },
   {
    "duration": 18,
    "start_time": "2023-09-22T04:22:02.621Z"
   },
   {
    "duration": 46,
    "start_time": "2023-09-22T04:22:09.650Z"
   },
   {
    "duration": 26,
    "start_time": "2023-09-22T04:22:17.964Z"
   },
   {
    "duration": 19,
    "start_time": "2023-09-22T04:22:42.888Z"
   },
   {
    "duration": 8,
    "start_time": "2023-09-22T04:22:44.052Z"
   },
   {
    "duration": 9,
    "start_time": "2023-09-22T04:30:55.355Z"
   },
   {
    "duration": 25,
    "start_time": "2023-09-22T06:00:55.206Z"
   },
   {
    "duration": 14,
    "start_time": "2023-09-22T06:00:56.821Z"
   },
   {
    "duration": 4,
    "start_time": "2023-09-22T06:01:08.971Z"
   },
   {
    "duration": 20,
    "start_time": "2023-09-22T06:01:12.371Z"
   },
   {
    "duration": 11,
    "start_time": "2023-09-22T06:05:54.064Z"
   },
   {
    "duration": 104,
    "start_time": "2023-09-22T06:13:19.647Z"
   },
   {
    "duration": 23,
    "start_time": "2023-09-22T06:14:09.395Z"
   },
   {
    "duration": 21,
    "start_time": "2023-09-22T06:14:50.467Z"
   },
   {
    "duration": 20,
    "start_time": "2023-09-22T06:15:05.376Z"
   },
   {
    "duration": 10,
    "start_time": "2023-09-22T06:16:05.473Z"
   },
   {
    "duration": 136,
    "start_time": "2023-09-22T06:27:27.074Z"
   },
   {
    "duration": 28,
    "start_time": "2023-09-22T06:28:17.664Z"
   },
   {
    "duration": 10,
    "start_time": "2023-09-22T06:29:19.974Z"
   },
   {
    "duration": 3,
    "start_time": "2023-09-22T06:33:31.308Z"
   },
   {
    "duration": 30,
    "start_time": "2023-09-22T06:33:32.684Z"
   },
   {
    "duration": 11,
    "start_time": "2023-09-22T06:33:34.873Z"
   },
   {
    "duration": 4,
    "start_time": "2023-09-22T06:33:44.263Z"
   },
   {
    "duration": 28,
    "start_time": "2023-09-22T06:33:45.591Z"
   },
   {
    "duration": 10,
    "start_time": "2023-09-22T06:33:47.075Z"
   }
  ],
  "colab": {
   "provenance": []
  },
  "kernelspec": {
   "display_name": "Python 3",
   "language": "python",
   "name": "python3"
  },
  "language_info": {
   "codemirror_mode": {
    "name": "ipython",
    "version": 3
   },
   "file_extension": ".py",
   "mimetype": "text/x-python",
   "name": "python",
   "nbconvert_exporter": "python",
   "pygments_lexer": "ipython3",
   "version": "3.7.4"
  },
  "toc": {
   "base_numbering": 1,
   "nav_menu": {},
   "number_sections": true,
   "sideBar": true,
   "skip_h1_title": true,
   "title_cell": "Table of Contents",
   "title_sidebar": "Contents",
   "toc_cell": false,
   "toc_position": {
    "height": "calc(100% - 180px)",
    "left": "10px",
    "top": "150px",
    "width": "344.444px"
   },
   "toc_section_display": true,
   "toc_window_display": true
  }
 },
 "nbformat": 4,
 "nbformat_minor": 5
}
